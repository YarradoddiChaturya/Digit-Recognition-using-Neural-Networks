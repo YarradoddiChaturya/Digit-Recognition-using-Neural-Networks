{
 "cells": [
  {
   "cell_type": "markdown",
   "id": "43aa7fc5",
   "metadata": {},
   "source": [
    "# Project on Digit Recognition using Neural Networks\n",
    "## Abstract:\n",
    "### Digit recognition system is the working of a machine to train itself or recognizing the digits from different sources like emails, bank cheque, papers, images, etc. and in different real-world scenarios for online handwriting recognition on computer tablets or system, recognize number plates of vehicles, processing bank cheque amounts, numeric entries in forms filled up by hand (say — tax forms) and so on.\n",
    "## Problem Statement:\n",
    "### Implement a simple image classification based on a deep neural network."
   ]
  },
  {
   "cell_type": "markdown",
   "id": "a0d55dda",
   "metadata": {},
   "source": [
    "## Dataset Information:\n",
    "### The Street View House Numbers (SVHN) dataset is a real-world image dataset and has been obtained from house numbers in Google Street View images.\n",
    "### Fragments of this dataset were preprocessed:\n",
    "#### ● Fields of photos that do not contain digits were cut off;\n",
    "#### ● The photos were formatted to the standard 32X32 size;\n",
    "#### ● Three color channels were converted into one channel (grayscale);\n",
    "#### ● Each of the resulting images was represented as an array of numbers."
   ]
  },
  {
   "cell_type": "markdown",
   "id": "962fc869",
   "metadata": {},
   "source": [
    "### 1. Importing Necessary Libraries:"
   ]
  },
  {
   "cell_type": "code",
   "execution_count": 1,
   "id": "c81efdf4",
   "metadata": {},
   "outputs": [],
   "source": [
    "import numpy as np\n",
    "import matplotlib.pyplot as plt\n",
    "from sklearn.metrics import confusion_matrix\n",
    "import seaborn as sns\n",
    "%matplotlib inline\n",
    "import h5py "
   ]
  },
  {
   "cell_type": "markdown",
   "id": "9d325071",
   "metadata": {},
   "source": [
    "### 2. Importing the Dataset:"
   ]
  },
  {
   "cell_type": "code",
   "execution_count": 2,
   "id": "c656eccc",
   "metadata": {},
   "outputs": [],
   "source": [
    "h5=h5py.File('SVHN_single_grey1.h5','r')"
   ]
  },
  {
   "cell_type": "markdown",
   "id": "adb1f222",
   "metadata": {},
   "source": [
    "### 3. Spliting the Dataset:"
   ]
  },
  {
   "cell_type": "code",
   "execution_count": 3,
   "id": "65e6d880",
   "metadata": {},
   "outputs": [
    {
     "data": {
      "text/plain": [
       "<KeysViewHDF5 ['X_test', 'X_train', 'X_val', 'y_test', 'y_train', 'y_val']>"
      ]
     },
     "execution_count": 3,
     "metadata": {},
     "output_type": "execute_result"
    }
   ],
   "source": [
    "# Checking for the keys in the dataset to split the dataset and get required subsets\n",
    "h5.keys()"
   ]
  },
  {
   "cell_type": "code",
   "execution_count": 4,
   "id": "094f16d7",
   "metadata": {},
   "outputs": [],
   "source": [
    "# Getting required subsets\n",
    "x_test=h5.get('X_test')\n",
    "x_train=h5.get('X_train')\n",
    "x_val=h5.get('X_val')\n",
    "y_test=h5.get('y_test')\n",
    "y_train=h5.get('y_train')\n",
    "y_val=h5.get('y_val')"
   ]
  },
  {
   "cell_type": "markdown",
   "id": "258306df",
   "metadata": {},
   "source": [
    "### 4.  EDA:"
   ]
  },
  {
   "cell_type": "code",
   "execution_count": 5,
   "id": "830d3c8b",
   "metadata": {},
   "outputs": [
    {
     "data": {
      "text/plain": [
       "<HDF5 dataset \"X_val\": shape (60000, 32, 32), type \"<f4\">"
      ]
     },
     "execution_count": 5,
     "metadata": {},
     "output_type": "execute_result"
    }
   ],
   "source": [
    "# Checking the datatype of the subsets\n",
    "x_val"
   ]
  },
  {
   "cell_type": "code",
   "execution_count": 6,
   "id": "6439ca19",
   "metadata": {},
   "outputs": [],
   "source": [
    "# Converting <f5 subsets to array subset\n",
    "x_test=np.array(x_test)\n",
    "x_train=np.array(x_train)\n",
    "x_val=np.array(x_val)\n",
    "y_test=np.array(y_test)\n",
    "y_train=np.array(y_train)\n",
    "y_val=np.array(y_val)"
   ]
  },
  {
   "cell_type": "code",
   "execution_count": 7,
   "id": "994535a3",
   "metadata": {},
   "outputs": [
    {
     "data": {
      "text/plain": [
       "(18000, 32, 32)"
      ]
     },
     "execution_count": 7,
     "metadata": {},
     "output_type": "execute_result"
    }
   ],
   "source": [
    "x_test.shape"
   ]
  },
  {
   "cell_type": "code",
   "execution_count": 8,
   "id": "8af1565a",
   "metadata": {},
   "outputs": [
    {
     "data": {
      "text/plain": [
       "(42000, 32, 32)"
      ]
     },
     "execution_count": 8,
     "metadata": {},
     "output_type": "execute_result"
    }
   ],
   "source": [
    "x_train.shape"
   ]
  },
  {
   "cell_type": "code",
   "execution_count": 9,
   "id": "ff8fec69",
   "metadata": {},
   "outputs": [
    {
     "data": {
      "text/plain": [
       "(60000, 32, 32)"
      ]
     },
     "execution_count": 9,
     "metadata": {},
     "output_type": "execute_result"
    }
   ],
   "source": [
    "x_val.shape"
   ]
  },
  {
   "cell_type": "code",
   "execution_count": 10,
   "id": "d6c9a020",
   "metadata": {},
   "outputs": [
    {
     "data": {
      "text/plain": [
       "<matplotlib.image.AxesImage at 0x1238a47dfa0>"
      ]
     },
     "execution_count": 10,
     "metadata": {},
     "output_type": "execute_result"
    },
    {
     "data": {
      "image/png": "[encoded data removed]",
      "text/plain": [
       "<Figure size 288x288 with 1 Axes>"
      ]
     },
     "metadata": {
      "needs_background": "light"
     },
     "output_type": "display_data"
    }
   ],
   "source": [
    "plt.matshow(x_train[0]) # Viewing Sample 1   "
   ]
  },
  {
   "cell_type": "code",
   "execution_count": 11,
   "id": "406cfe08",
   "metadata": {},
   "outputs": [
    {
     "data": {
      "text/plain": [
       "2"
      ]
     },
     "execution_count": 11,
     "metadata": {},
     "output_type": "execute_result"
    }
   ],
   "source": [
    "y_train[0] # Checking Sample 1"
   ]
  },
  {
   "cell_type": "code",
   "execution_count": 12,
   "id": "592f61df",
   "metadata": {},
   "outputs": [
    {
     "data": {
      "text/plain": [
       "<matplotlib.image.AxesImage at 0x1238ac2a610>"
      ]
     },
     "execution_count": 12,
     "metadata": {},
     "output_type": "execute_result"
    },
    {
     "data": {
      "image/png": "[encoded data removed]",
      "text/plain": [
       "<Figure size 288x288 with 1 Axes>"
      ]
     },
     "metadata": {
      "needs_background": "light"
     },
     "output_type": "display_data"
    }
   ],
   "source": [
    "plt.matshow(x_train[10]) # Viewing Sample 2"
   ]
  },
  {
   "cell_type": "code",
   "execution_count": 13,
   "id": "04826b0f",
   "metadata": {},
   "outputs": [
    {
     "data": {
      "text/plain": [
       "1"
      ]
     },
     "execution_count": 13,
     "metadata": {},
     "output_type": "execute_result"
    }
   ],
   "source": [
    "y_train[10] # Checking Sample 2"
   ]
  },
  {
   "cell_type": "code",
   "execution_count": 14,
   "id": "064c9891",
   "metadata": {},
   "outputs": [
    {
     "data": {
      "text/plain": [
       "<matplotlib.image.AxesImage at 0x1238ac9fa60>"
      ]
     },
     "execution_count": 14,
     "metadata": {},
     "output_type": "execute_result"
    },
    {
     "data": {
      "image/png": "[encoded data removed]",
      "text/plain": [
       "<Figure size 288x288 with 1 Axes>"
      ]
     },
     "metadata": {
      "needs_background": "light"
     },
     "output_type": "display_data"
    }
   ],
   "source": [
    "plt.matshow(x_train[50]) # Viewing Sample 3"
   ]
  },
  {
   "cell_type": "code",
   "execution_count": 15,
   "id": "f6fe0d73",
   "metadata": {},
   "outputs": [
    {
     "data": {
      "text/plain": [
       "4"
      ]
     },
     "execution_count": 15,
     "metadata": {},
     "output_type": "execute_result"
    }
   ],
   "source": [
    "y_train[50] # Checking Sample 3"
   ]
  },
  {
   "cell_type": "markdown",
   "id": "69d5f126",
   "metadata": {},
   "source": [
    "### 5. Data Normalization:"
   ]
  },
  {
   "cell_type": "code",
   "execution_count": 16,
   "id": "3ae15a62",
   "metadata": {},
   "outputs": [
    {
     "data": {
      "text/plain": [
       "array([[ 33.0704,  30.2601,  26.852 , ...,  71.4471,  58.2204,  42.9939],\n",
       "       [ 25.2283,  25.5533,  29.9765, ..., 113.0209, 103.3639,  84.2949],\n",
       "       [ 26.2775,  22.6137,  40.4763, ..., 113.3028, 121.775 , 115.4228],\n",
       "       ...,\n",
       "       [ 28.5502,  36.212 ,  45.0801, ...,  24.1359,  25.0927,  26.0603],\n",
       "       [ 38.4352,  26.4733,  23.2717, ...,  28.1094,  29.4683,  30.0661],\n",
       "       [ 50.2984,  26.0773,  24.0389, ...,  49.6682,  50.853 ,  53.0377]],\n",
       "      dtype=float32)"
      ]
     },
     "execution_count": 16,
     "metadata": {},
     "output_type": "execute_result"
    }
   ],
   "source": [
    "x_train[0] # We can see that the values are between 0 to 255 so we have to normalize the dataset"
   ]
  },
  {
   "cell_type": "code",
   "execution_count": 17,
   "id": "7ecacc3d",
   "metadata": {},
   "outputs": [],
   "source": [
    "X_train=x_train/255\n",
    "X_test=x_test/255\n",
    "X_val=x_val/255"
   ]
  },
  {
   "cell_type": "code",
   "execution_count": 18,
   "id": "7b78cb2c",
   "metadata": {},
   "outputs": [
    {
     "data": {
      "text/plain": [
       "array([[0.12968785, 0.11866706, 0.10530196, ..., 0.2801847 , 0.2283153 ,\n",
       "        0.16860352],\n",
       "       [0.09893451, 0.10020902, 0.1175549 , ..., 0.4432192 , 0.40534863,\n",
       "        0.33056822],\n",
       "       [0.10304902, 0.08868118, 0.15873058, ..., 0.44432473, 0.47754902,\n",
       "        0.45263842],\n",
       "       ...,\n",
       "       [0.11196157, 0.14200786, 0.17678471, ..., 0.09465059, 0.09840274,\n",
       "        0.10219726],\n",
       "       [0.15072627, 0.10381687, 0.09126157, ..., 0.11023294, 0.11556196,\n",
       "        0.11790627],\n",
       "       [0.19724864, 0.10226392, 0.0942702 , ..., 0.19477727, 0.19942354,\n",
       "        0.20799099]], dtype=float32)"
      ]
     },
     "execution_count": 18,
     "metadata": {},
     "output_type": "execute_result"
    }
   ],
   "source": [
    "X_train[0] # We can see that the data array is between 0 to 1"
   ]
  },
  {
   "cell_type": "markdown",
   "id": "8d7fc73c",
   "metadata": {},
   "source": [
    "### 6. Model Building and Tweaking:"
   ]
  },
  {
   "cell_type": "code",
   "execution_count": 19,
   "id": "cb26e567",
   "metadata": {},
   "outputs": [],
   "source": [
    "# Importing necessary Models and layers to work on the dataset\n",
    "from tensorflow.keras.models import Sequential\n",
    "from tensorflow.keras.layers import Dense,Activation,Flatten"
   ]
  },
  {
   "cell_type": "code",
   "execution_count": 20,
   "id": "50b3b81e",
   "metadata": {},
   "outputs": [],
   "source": [
    "model=Sequential() # Model Building"
   ]
  },
  {
   "cell_type": "code",
   "execution_count": 21,
   "id": "69c30c77",
   "metadata": {},
   "outputs": [],
   "source": [
    "# Model Tweaking:\n",
    "model.add(Flatten(input_shape=[32,32]))\n",
    "model.add(Dense(150,activation='sigmoid'))\n",
    "model.add(Dense(150,activation='tanh'))\n",
    "model.add(Dense(150,activation='relu'))\n",
    "model.add(Dense(10,activation='softmax'))"
   ]
  },
  {
   "cell_type": "code",
   "execution_count": 22,
   "id": "205c44b4",
   "metadata": {},
   "outputs": [
    {
     "name": "stdout",
     "output_type": "stream",
     "text": [
      "Model: \"sequential\"\n",
      "_________________________________________________________________\n",
      " Layer (type)                Output Shape              Param #   \n",
      "=================================================================\n",
      " flatten (Flatten)           (None, 1024)              0         \n",
      "                                                                 \n",
      " dense (Dense)               (None, 150)               153750    \n",
      "                                                                 \n",
      " dense_1 (Dense)             (None, 150)               22650     \n",
      "                                                                 \n",
      " dense_2 (Dense)             (None, 150)               22650     \n",
      "                                                                 \n",
      " dense_3 (Dense)             (None, 10)                1510      \n",
      "                                                                 \n",
      "=================================================================\n",
      "Total params: 200,560\n",
      "Trainable params: 200,560\n",
      "Non-trainable params: 0\n",
      "_________________________________________________________________\n"
     ]
    }
   ],
   "source": [
    "model.summary() # Checking whether the model is built according to the dataset"
   ]
  },
  {
   "cell_type": "code",
   "execution_count": 23,
   "id": "28422432",
   "metadata": {},
   "outputs": [],
   "source": [
    "model.compile(loss='sparse_categorical_crossentropy',optimizer='adam',metrics='accuracy') # Eliminating error warnings"
   ]
  },
  {
   "cell_type": "code",
   "execution_count": 24,
   "id": "d7adc17e",
   "metadata": {},
   "outputs": [
    {
     "name": "stdout",
     "output_type": "stream",
     "text": [
      "Epoch 1/15\n",
      "1875/1875 [==============================] - 4s 2ms/step - loss: 2.0367 - accuracy: 0.2284\n",
      "Epoch 2/15\n",
      "1875/1875 [==============================] - 3s 2ms/step - loss: 1.2645 - accuracy: 0.5791\n",
      "Epoch 3/15\n",
      "1875/1875 [==============================] - 3s 2ms/step - loss: 1.0361 - accuracy: 0.6679\n",
      "Epoch 4/15\n",
      "1875/1875 [==============================] - 3s 2ms/step - loss: 0.9298 - accuracy: 0.7036\n",
      "Epoch 5/15\n",
      "1875/1875 [==============================] - 3s 2ms/step - loss: 0.8591 - accuracy: 0.7288\n",
      "Epoch 6/15\n",
      "1875/1875 [==============================] - 3s 2ms/step - loss: 0.8136 - accuracy: 0.7441\n",
      "Epoch 7/15\n",
      "1875/1875 [==============================] - 3s 2ms/step - loss: 0.7699 - accuracy: 0.7559\n",
      "Epoch 8/15\n",
      "1875/1875 [==============================] - 3s 2ms/step - loss: 0.7450 - accuracy: 0.7653\n",
      "Epoch 9/15\n",
      "1875/1875 [==============================] - 3s 2ms/step - loss: 0.7172 - accuracy: 0.7726\n",
      "Epoch 10/15\n",
      "1875/1875 [==============================] - 3s 2ms/step - loss: 0.6922 - accuracy: 0.7810\n",
      "Epoch 11/15\n",
      "1875/1875 [==============================] - 3s 2ms/step - loss: 0.6695 - accuracy: 0.7900\n",
      "Epoch 12/15\n",
      "1875/1875 [==============================] - 3s 2ms/step - loss: 0.6550 - accuracy: 0.7936\n",
      "Epoch 13/15\n",
      "1875/1875 [==============================] - 3s 2ms/step - loss: 0.6372 - accuracy: 0.7982\n",
      "Epoch 14/15\n",
      "1875/1875 [==============================] - 3s 2ms/step - loss: 0.6225 - accuracy: 0.8038\n",
      "Epoch 15/15\n",
      "1875/1875 [==============================] - 3s 2ms/step - loss: 0.6034 - accuracy: 0.8106\n"
     ]
    },
    {
     "data": {
      "text/plain": [
       "<keras.callbacks.History at 0x123bee59ca0>"
      ]
     },
     "execution_count": 24,
     "metadata": {},
     "output_type": "execute_result"
    }
   ],
   "source": [
    "# Model Fitting\n",
    "model.fit(X_val,y_val,epochs=15)"
   ]
  },
  {
   "cell_type": "code",
   "execution_count": 25,
   "id": "176692e9",
   "metadata": {},
   "outputs": [],
   "source": [
    "# Model Predicting\n",
    "y_predict=model.predict(X_test)"
   ]
  },
  {
   "cell_type": "code",
   "execution_count": 26,
   "id": "c78e9c39",
   "metadata": {},
   "outputs": [
    {
     "data": {
      "text/plain": [
       "<matplotlib.image.AxesImage at 0x123c12ef580>"
      ]
     },
     "execution_count": 26,
     "metadata": {},
     "output_type": "execute_result"
    },
    {
     "data": {
      "image/png": "[encoded data removed]",
      "text/plain": [
       "<Figure size 288x288 with 1 Axes>"
      ]
     },
     "metadata": {
      "needs_background": "light"
     },
     "output_type": "display_data"
    }
   ],
   "source": [
    "# Viewing a Sample data [10] after Model fit\n",
    "plt.matshow(X_test[10])"
   ]
  },
  {
   "cell_type": "code",
   "execution_count": 27,
   "id": "eb85a470",
   "metadata": {},
   "outputs": [
    {
     "data": {
      "text/plain": [
       "array([7.8039631e-02, 3.2493302e-03, 6.6766667e-04, 2.3485389e-02,\n",
       "       5.7871792e-05, 5.1283915e-02, 1.3840388e-01, 3.5353045e-05,\n",
       "       6.5158290e-01, 5.3194098e-02], dtype=float32)"
      ]
     },
     "execution_count": 27,
     "metadata": {},
     "output_type": "execute_result"
    }
   ],
   "source": [
    "# Checking the Sample data [10]\n",
    "y_predict[10]"
   ]
  },
  {
   "cell_type": "code",
   "execution_count": 28,
   "id": "2c6baa24",
   "metadata": {},
   "outputs": [
    {
     "data": {
      "text/plain": [
       "8"
      ]
     },
     "execution_count": 28,
     "metadata": {},
     "output_type": "execute_result"
    }
   ],
   "source": [
    "# Checking the exact predicted value of sample data [10]\n",
    "np.argmax(y_predict[10])"
   ]
  },
  {
   "cell_type": "code",
   "execution_count": 29,
   "id": "f242eedd",
   "metadata": {},
   "outputs": [
    {
     "name": "stdout",
     "output_type": "stream",
     "text": [
      "[0, 7, 2, 9, 0, 9, 1, 8, 1, 4, 8, 2, 4, 4, 3, 5, 8, 6, 5, 5, 0, 6, 5, 5, 3, 2, 0, 0, 9, 5, 2, 8, 9, 1, 0, 9, 5, 4, 3, 7, 0, 4, 2, 4, 9, 6, 5, 6, 8, 3, 5, 3, 7, 1, 4, 8, 4, 4, 2, 9, 0, 1, 5, 9, 9, 2, 2, 2, 5, 8, 9, 8, 3, 8, 4, 5, 2, 8, 6, 0, 5, 4, 2, 8, 2, 4, 0, 9, 9, 5, 3, 2, 8, 5, 0, 7, 4, 4, 8, 7, 7, 7, 5, 2, 1, 4, 9, 6, 1, 4, 1, 0, 9, 0, 8, 4, 4, 1, 0, 9, 0, 3, 9, 0, 5, 0, 3, 5, 6, 1, 6, 6, 8, 9, 4, 9, 8, 8, 5, 4, 0, 2, 9, 5, 5, 0, 0, 0, 9, 9, 5, 8, 8, 9, 4, 5, 4, 4, 3, 7, 0, 0, 2, 5, 9, 2, 7, 6, 7, 1, 5, 2, 9, 0, 4, 5, 4, 5, 5, 5, 7, 2, 2, 6, 1, 6, 1, 3, 6, 9, 6, 8, 4, 9, 3, 2, 7, 8, 6, 5, 4, 5, 2, 3, 0, 2, 4, 9, 2, 8, 9, 5, 2, 0, 2, 9, 0, 2, 0, 9, 5, 1, 1, 7, 8, 9, 6, 0, 1, 3, 3, 8, 6, 3, 0, 5, 4, 7, 7, 4, 8, 7, 7, 3, 9, 0, 4, 4, 1, 3, 3, 3, 5, 4, 5, 7, 9, 0, 8, 2, 4, 6, 4, 9, 7, 7, 9, 3, 6, 2, 9, 4, 5, 0, 0, 7, 7, 0, 8, 9, 6, 3, 7, 7, 4, 6, 3, 2, 5, 2, 5, 4, 3, 0, 9, 1, 4, 5, 5, 5, 0, 2, 7, 1, 5, 1, 8, 3, 1, 4, 8, 6, 0, 3, 3, 2, 6, 1, 0, 1, 0, 6, 5, 2, 2, 1, 0, 7, 7, 0, 6, 3, 8, 2, 2, 6, 8, 7, 4, 0, 7, 7, 8, 7, 0, 5, 0, 2, 6, 8, 4, 2, 7, 2, 7, 2, 3, 0, 2, 9, 5, 1, 2, 9, 5, 3, 9, 1, 7, 3, 6, 4, 4, 3, 5, 5, 8, 5, 1, 1, 2, 7, 8, 3, 8, 5, 9, 7, 3, 2, 8, 0, 0, 8, 9, 4, 6, 7, 9, 4, 6, 5, 2, 2, 1, 4, 2, 1, 2, 9, 4, 1, 5, 5, 0, 3, 1, 5, 0, 2, 3, 5, 9, 8, 4, 7, 5, 0, 9, 6, 5, 9, 0, 4, 9, 4, 2, 4, 8, 5, 5, 3, 5, 5, 0, 3, 7, 3, 7, 6, 5, 0, 6, 5, 5, 0, 9, 3, 4, 5, 6, 0, 7, 7, 8, 6, 5, 7, 8, 1, 8, 9, 3, 2, 3, 9, 4, 9, 5, 3, 2, 8, 2, 7, 1, 9, 0, 9, 7, 4, 5, 0, 3, 1, 6, 5, 2, 2, 5, 0, 6, 6, 6, 4, 6, 8, 5, 3, 1, 5, 7, 4, 6, 6, 9, 8, 3, 6, 8, 5, 2, 0, 8, 3, 2, 9, 4, 4, 3, 4, 2, 9, 8, 9, 6, 0, 7, 5, 1, 0, 7, 7, 2, 5, 2, 0, 8, 5, 3, 3, 8, 0, 8, 3, 3, 1, 5, 9, 6, 7, 0, 4, 9, 9, 7, 9, 7, 8, 3, 7, 8, 8, 0, 8, 0, 4, 5, 9, 3, 5, 6, 9, 7, 8, 0, 7, 5, 2, 8, 2, 3, 5, 3, 4, 1, 4, 4, 8, 6, 9, 8, 8, 4, 6, 9, 5, 6, 0, 2, 6, 1, 2, 9, 0, 9, 0, 6, 0, 9, 4, 0, 2, 7, 1, 9, 4, 4, 9, 7, 7, 0, 5, 6, 4, 4, 7, 4, 8, 9, 9, 9, 7, 3, 3, 6, 2, 8, 8, 3, 8, 9, 6, 0, 5, 4, 3, 7, 7, 7, 4, 8, 1, 1, 2, 3, 0, 1, 3, 3, 3, 5, 1, 0, 4, 0, 1, 2, 1, 5, 0, 4, 4, 9, 8, 9, 1, 7, 8, 6, 3, 2, 2, 5, 2, 5, 0, 8, 1, 6, 2, 2, 6, 6, 6, 3, 5, 3, 6, 6, 2, 2, 7, 5, 9, 9, 4, 7, 4, 5, 1, 9, 8, 0, 0, 0, 4, 8, 1, 1, 6, 0, 1, 5, 5, 4, 2, 5, 7, 3, 7, 1, 8, 7, 7, 4, 2, 0, 0, 0, 1, 2, 1, 0, 2, 7, 0, 0, 1, 2, 3, 5, 2, 9, 9, 4, 3, 2, 1, 7, 0, 1, 0, 8, 6, 1, 5, 7, 1, 3, 2, 5, 7, 1, 5, 5, 8, 1, 3, 2, 2, 8, 7, 1, 8, 8, 7, 7, 4, 9, 2, 9, 5, 7, 6, 2, 4, 3, 9, 8, 2, 1, 8, 9, 7, 6, 4, 8, 9, 3, 7, 1, 0, 7, 7, 7, 0, 8, 4, 1, 4, 2, 7, 1, 2, 6, 4, 3, 7, 2, 6, 5, 4, 8, 9, 4, 5, 0, 2, 0, 4, 2, 8, 7, 4, 9, 6, 1, 3, 7, 9, 5, 9, 9, 8, 7, 8, 6, 2, 9, 0, 6, 3, 1, 6, 1, 8, 5, 3, 1, 6, 9, 8, 8, 9, 3, 1, 0, 2, 7, 5, 0, 3, 2, 1, 9, 4, 8, 5, 2, 4, 0, 0, 4, 1, 1, 3, 7, 0, 5, 9, 8, 8, 2, 8, 3, 9, 7, 4, 3, 4, 4, 7, 0, 8, 6, 6, 0, 9, 3, 2, 0, 2, 7, 0, 5, 0, 3, 4, 0, 2, 1, 4, 3, 7, 2, 6, 8, 8, 3, 7, 4, 0, 7, 3, 5, 6, 2, 0, 0, 5, 5, 4, 8, 0, 8, 4, 6, 8, 0, 3, 3, 2, 9, 2, 8, 7, 7, 0, 3, 5, 0, 4, 4, 7, 3, 5, 7, 4, 8, 9, 9, 9, 1, 7, 5, 2, 7, 8, 9, 1, 1, 7, 0, 2, 2, 7, 5, 2, 5, 2, 2, 1, 2, 8, 5, 3, 8, 6, 7, 4, 8, 5, 2, 2, 3, 5, 3, 6, 7, 2, 0, 0, 0, 4, 0, 6, 6, 6, 1, 0, 5, 5, 0, 8, 7, 8, 9, 8, 6, 2, 1, 8, 5, 2, 3, 0, 3, 2, 7, 5, 4, 9, 5, 1, 0, 8, 3, 6, 5, 9, 8, 9, 8, 5, 3, 0, 0, 9, 4, 8, 0, 2, 7, 9, 2, 5, 0, 5, 2, 6, 9, 0, 3, 2, 5, 5, 7, 6, 3, 7, 6, 9, 0, 5, 1, 4, 8, 4, 1, 6, 6, 3, 5, 1, 2, 2, 1, 9, 8, 7, 0, 7, 5, 1, 3, 7, 3, 7, 9, 6, 5, 8, 9, 3, 4, 9, 5, 2, 6, 7, 5, 9, 5, 2, 8, 7, 2, 2, 3, 7, 5, 4, 7, 0, 9, 5, 6, 5, 5, 9, 2, 8, 0, 4, 4, 0, 2, 1, 9, 2, 0, 0, 2, 2, 3, 5, 0, 5, 3, 3, 5, 9, 5, 9, 6, 9, 8, 2, 4, 2, 9, 7, 0, 7, 8, 5, 7, 1, 6, 4, 7, 5, 3, 2, 2, 6, 6, 2, 2, 8, 0, 5, 3, 5, 7, 2, 7, 8, 9, 4, 2, 6, 6, 8, 7, 7, 2, 5, 2, 5, 6, 4, 3, 0, 4, 8, 1, 8, 7, 6, 0, 5, 6, 1, 3, 3, 4, 9, 0, 9, 9, 1, 5, 5, 8, 1, 3, 5, 5, 5, 2, 0, 6, 4, 4, 7, 1, 1, 7, 8, 8, 3, 9, 0, 3, 1, 1, 7, 1, 0, 4, 2, 7, 0, 5, 1, 6, 6, 2, 3, 2, 4, 7, 5, 3, 3, 1, 9, 4, 1, 4, 4, 8, 4, 5, 1, 4, 5, 1, 4, 2, 8, 6, 9, 9, 6, 9, 8, 6, 2, 8, 9, 4, 0, 7, 8, 0, 4, 4, 4, 8, 1, 3, 1, 4, 2, 4, 3, 4, 8, 8, 0, 3, 6, 3, 7, 9, 2, 5, 3, 8, 9, 9, 8, 0, 0, 9, 0, 8, 7, 3, 1, 2, 3, 9, 0, 3, 4, 5, 3, 4, 4, 5, 6, 6, 2, 9, 5, 2, 3, 2, 8, 4, 6, 9, 3, 4, 0, 0, 0, 6, 1, 3, 4, 8, 4, 5, 3, 6, 1, 7, 7, 6, 3, 3, 6, 0, 6, 5, 8, 9, 2, 3, 6, 3, 4, 7, 5, 3, 0, 0, 7, 9, 0, 2, 9, 7, 6, 9, 7, 2, 5, 1, 9, 7, 4, 5, 8, 6, 0, 5, 2, 3, 3, 7, 7, 2, 9, 7, 2, 6, 8, 2, 1, 7, 5, 8, 2, 3, 9, 3, 3, 4, 1, 0, 8, 4, 5, 0, 6, 0, 5, 0, 9, 3, 7, 6, 2, 7, 4, 0, 8, 0, 5, 0, 1, 8, 6, 6, 6, 0, 9, 6, 8, 2, 4, 5, 6, 6, 6, 2, 4, 1, 5, 6, 9, 5, 8, 4, 0, 9, 5, 4, 4, 9, 9, 3, 7, 2, 1, 2, 0, 6, 2, 5, 4, 3, 1, 3, 3, 2, 3, 3, 2, 6, 9, 2, 4, 1, 1, 2, 1, 9, 6, 9, 6, 9, 8, 9, 4, 3, 9, 2, 4, 0, 4, 4, 3, 7, 5, 3, 0, 1, 4, 4, 1, 5, 9, 5, 5, 1, 5, 9, 9, 7, 4, 8, 5, 0, 8, 8, 4, 2, 8, 8, 3, 3, 6, 0, 6, 2, 8, 7, 8, 0, 8, 5, 3, 2, 3, 1, 6, 1, 4, 9, 4, 9, 5, 0, 3, 0, 6, 3, 4, 0, 5, 0, 2, 5, 3, 3, 0, 4, 5, 1, 3, 6, 1, 7, 3, 6, 1, 6, 9, 4, 9, 8, 1, 3, 9, 0, 3, 1, 7, 4, 2, 3, 7, 2, 7, 7, 0, 4, 9, 9, 4, 8, 7, 2, 1, 2, 0, 2, 7, 7, 4, 7, 0, 1, 3, 4, 4, 7, 5, 9, 7, 8, 1, 6, 9, 6, 4, 9, 3, 9, 2, 4, 7, 2, 7, 3, 2, 7, 7, 4, 4, 8, 4, 2, 4, 5, 2, 4, 7, 7, 3, 3, 6, 3, 2, 0, 0, 6, 8, 5, 8, 0, 3, 7, 9, 4, 1, 8, 1, 5, 3, 1, 2, 6, 0, 6, 2, 6, 0, 1, 9, 3, 4, 1, 9, 5, 5, 5, 6, 3, 3, 1, 1, 9, 1, 3, 5, 6, 3, 5, 6, 0, 2, 6, 7, 0, 2, 4, 5, 7, 2, 4, 7, 6, 7, 0, 4, 7, 5, 2, 9, 5, 1, 1, 0, 6, 2, 6, 6, 6, 4, 2, 2, 7, 9, 9, 6, 5, 5, 6, 3, 0, 6, 5, 8, 0, 4, 3, 3, 8, 4, 1, 1, 8, 3, 2, 7, 4, 4, 2, 1, 1, 2, 5, 5, 9, 4, 5, 0, 8, 0, 3, 5, 5, 1, 7, 8, 1, 7, 5, 8, 1, 4, 6, 0, 6, 4, 4, 6, 3, 3, 2, 8, 2, 4, 1, 1, 4, 5, 5, 2, 5, 1, 5, 8, 0, 0, 7, 2, 2, 7, 5, 2, 7, 1, 1, 5, 6, 1, 5, 8, 2, 1, 5, 5, 1, 6, 3, 4, 1, 9, 7, 5, 0, 1, 0, 1, 5, 2, 3, 1, 6, 5, 7, 0, 9, 2, 8, 1, 4, 8, 5, 2, 1, 2, 9, 4, 6, 0, 7, 2, 6, 1, 7, 2, 9, 0, 3, 0, 2, 4, 5, 7, 4, 5, 2, 2, 4, 4, 1, 0, 2, 0, 8, 2, 5, 7, 3, 0, 9, 7, 2, 1, 3, 4, 9, 4, 2, 0, 2, 8, 4, 9, 9, 4, 5, 6, 4, 6, 1, 4, 8, 9, 5, 0, 1, 8, 4, 0, 2, 1, 1, 1, 3, 2, 7, 6, 5, 2, 8, 1, 7, 0, 4, 8, 8, 4, 9, 8, 0, 1, 9, 3, 5, 4, 5, 2, 6, 8, 7, 9, 9, 4, 8, 0, 0, 5, 6, 3, 9, 3, 9, 9, 5, 5, 5, 3, 1, 0, 1, 4, 6, 1, 4, 6, 7, 2, 5, 5, 5, 3, 3, 3, 4, 3, 3, 4, 8, 3, 4, 1, 1, 3, 6, 6, 6, 9, 5, 4, 2, 2, 7, 2, 5, 7, 5, 4, 7, 5, 3, 2, 5, 6, 1, 1, 0, 9, 4, 8, 5, 7, 8, 1, 3, 0, 2, 0, 0, 5, 4, 1, 8, 6, 3, 5, 0, 0, 9, 2, 4, 4, 3, 1, 1, 6, 5, 5, 4, 8, 6, 6, 8, 8, 6, 6, 5, 3, 3, 1, 9, 3, 2, 4, 6, 7, 3, 0, 2, 2, 5, 7, 2, 5, 4, 0, 4, 2, 0, 7, 5, 0, 1, 4, 2, 9, 4, 6, 1, 7, 2, 7, 3, 4, 6, 9, 0, 6, 0, 1, 3, 9, 4, 4, 5, 5, 0, 2, 5, 3, 2, 7, 3, 1, 7, 4, 5, 6, 5, 5, 5, 0, 2, 5, 0, 6, 3, 8, 0, 7, 5, 4, 2, 2, 5, 6, 9, 8, 5, 0, 0, 5, 8, 0, 9, 1, 4, 1, 2, 4, 4, 8, 5, 5, 1, 3, 0, 6, 1, 5, 2, 0, 2, 0, 3, 5, 0, 6, 8, 7, 3, 4, 0, 3, 7, 9, 8, 3, 6, 0, 5, 1, 6, 2, 6, 7, 6, 6, 0, 0, 6, 5, 2, 8, 0, 8, 4, 6, 2, 4, 2, 7, 5, 0, 6, 6, 6, 9, 6, 9, 5, 8, 1, 5, 7, 8, 8, 5, 1, 6, 1, 9, 3, 0, 4, 4, 9, 5, 9, 0, 5, 7, 9, 4, 4, 1, 2, 2, 2, 6, 5, 3, 4, 5, 0, 6, 9, 0, 1, 1, 5, 7, 1, 5, 8, 0, 5, 2, 2, 4, 0, 5, 1, 8, 2, 9, 6, 7, 9, 5, 5, 9, 7, 3, 5, 4, 2, 2, 2, 6, 0, 0, 6, 9, 1, 2, 1, 4, 7, 1, 4, 7, 2, 5, 7, 1, 4, 4, 1, 5, 1, 6, 5, 2, 7, 0, 7, 3, 8, 4, 9, 4, 1, 1, 5, 0, 0, 3, 9, 0, 1, 3, 4, 7, 6, 3, 4, 8, 5, 9, 2, 1, 2, 5, 7, 7, 6, 6, 4, 0, 4, 8, 4, 2, 0, 5, 8, 2, 8, 3, 6, 2, 1, 3, 3, 5, 0, 8, 2, 5, 2, 1, 2, 2, 7, 5, 1, 9, 7, 7, 6, 7, 7, 4, 6, 5, 2, 5, 5, 9, 1, 2, 5, 1, 8, 8, 3, 3, 8, 1, 9, 7, 6, 9, 1, 3, 5, 7, 5, 2, 6, 5, 8, 0, 5, 6, 5, 0, 9, 9, 9, 0, 4, 9, 4, 4, 4, 5, 9, 4, 8, 4, 3, 3, 9, 8, 8, 1, 9, 2, 5, 2, 7, 2, 5, 4, 7, 6, 0, 5, 2, 4, 7, 5, 2, 1, 9, 5, 0, 6, 6, 8, 3, 9, 3, 0, 8, 5, 6, 2, 9, 1, 4, 6, 5, 5, 3, 6, 0, 5, 3, 0, 6, 6, 0, 5, 7, 8, 2, 6, 7, 8, 6, 2, 7, 3, 5, 2, 4, 2, 0, 4, 1, 0, 8, 8, 6, 7, 8, 3, 3, 8, 4, 8, 4, 0, 1, 7, 5, 2, 2, 8, 3, 1, 0, 4, 0, 2, 6, 8, 2, 0, 9, 0, 6, 3, 8, 8, 3, 0, 5, 9, 0, 8, 4, 7, 8, 7, 3, 6, 8, 6, 5, 0, 0, 2, 7, 4, 9, 1, 1, 8, 8, 4, 5, 0, 0, 3, 9, 0, 5, 3, 0, 0, 2, 4, 2, 9, 2, 3, 5, 0, 0, 4, 8, 0, 1, 3, 2, 4, 1, 2, 0, 9, 4, 5, 8, 3, 0, 7, 4, 2, 8, 8, 5, 8, 3, 5, 9, 5, 3, 2, 4, 2, 1, 0, 7, 1, 1, 1, 4, 4, 4, 2, 0, 5, 7, 5, 2, 5, 2, 6, 7, 6, 0, 9, 3, 5, 0, 4, 4, 9, 1, 8, 1, 0, 3, 4, 8, 6, 6, 7, 4, 3, 8, 0, 7, 0, 7, 0, 3, 4, 1, 7, 8, 5, 1, 5, 3, 4, 4, 3, 8, 7, 5, 1, 5, 4, 6, 9, 8, 2, 7, 2, 6, 0, 7, 9, 6, 9, 2, 2, 4, 2, 4, 2, 3, 2, 0, 3, 4, 0, 8, 0, 8, 0, 6, 7, 8, 2, 1, 6, 0, 5, 1, 8, 3, 6, 5, 2, 2, 2, 2, 0, 9, 7, 5, 6, 4, 7, 7, 2, 2, 0, 5, 5, 8, 0, 6, 4, 2, 6, 7, 7, 2, 7, 2, 8, 8, 4, 0, 2, 6, 4, 5, 8, 0, 5, 2, 5, 5, 8, 3, 6, 3, 1, 2, 4, 9, 3, 2, 8, 5, 3, 0, 0, 3, 9, 3, 0, 6, 2, 4, 2, 5, 9, 8, 3, 3, 2, 9, 1, 9, 2, 0, 2, 8, 1, 7, 7, 8, 2, 2, 4, 0, 5, 3, 5, 2, 7, 9, 9, 5, 5, 2, 5, 4, 6, 7, 6, 5, 2, 6, 2, 8, 8, 1, 5, 2, 5, 3, 1, 4, 6, 6, 1, 5, 2, 6, 8, 7, 1, 9, 6, 3, 9, 0, 8, 4, 8, 2, 0, 0, 6, 4, 2, 8, 2, 7, 5, 3, 6, 4, 5, 5, 4, 0, 2, 0, 6, 7, 7, 3, 4, 8, 1, 9, 1, 2, 2, 0, 6, 9, 1, 2, 8, 4, 9, 0, 8, 9, 9, 5, 0, 5, 2, 4, 3, 0, 9, 9, 5, 8, 1, 7, 7, 1, 5, 6, 2, 4, 6, 6, 5, 2, 7, 7, 0, 2, 9, 6, 7, 2, 1, 4, 8, 1, 9, 0, 9, 0, 7, 5, 1, 4, 2, 6, 9, 1, 8, 5, 3, 4, 5, 3, 9, 3, 6, 8, 4, 4, 1, 0, 5, 1, 3, 3, 3, 4, 7, 7, 7, 1, 5, 5, 3, 7, 3, 1, 9, 2, 0, 2, 8, 3, 0, 8, 9, 9, 6, 5, 5, 8, 3, 1, 7, 5, 2, 0, 8, 0, 0, 0, 3, 4, 2, 2, 3, 2, 0, 9, 0, 4, 3, 6, 5, 2, 4, 6, 9, 1, 8, 9, 5, 7, 2, 7, 0, 2, 9, 6, 4, 0, 8, 0, 2, 0, 1, 2, 2, 7, 2, 2, 7, 3, 9, 6, 1, 8, 0, 0, 1, 2, 5, 0, 9, 3, 2, 7, 1, 5, 4, 7, 3, 8, 0, 1, 5, 2, 2, 3, 9, 9, 5, 7, 8, 8, 4, 7, 4, 2, 2, 0, 2, 6, 8, 3, 3, 9, 9, 0, 5, 4, 2, 1, 6, 3, 3, 1, 2, 3, 5, 5, 9, 1, 0, 1, 6, 9, 3, 5, 9, 3, 0, 3, 7, 4, 3, 6, 4, 5, 2, 8, 6, 3, 7, 4, 9, 2, 0, 2, 3, 2, 4, 3, 9, 4, 4, 4, 2, 9, 3, 1, 8, 7, 5, 6, 2, 4, 1, 1, 3, 6, 0, 7, 2, 5, 5, 5, 3, 6, 7, 1, 8, 7, 4, 3, 5, 0, 4, 1, 0, 0, 7, 7, 5, 0, 6, 1, 5, 2, 2, 1, 3, 1, 0, 4, 9, 9, 9, 9, 1, 8, 8, 6, 1, 9, 4, 2, 5, 4, 3, 2, 5, 6, 0, 3, 2, 3, 4, 6, 4, 1, 4, 1, 5, 5, 0, 4, 8, 1, 7, 2, 0, 8, 6, 3, 7, 3, 8, 4, 4, 6, 3, 2, 5, 3, 5, 1, 3, 4, 2, 9, 4, 9, 1, 2, 0, 7, 1, 7, 5, 3, 6, 8, 4, 2, 1, 9, 8, 7, 2, 7, 1, 4, 2, 5, 8, 6, 7, 5, 9, 3, 1, 6, 4, 4, 6, 6, 2, 4, 6, 2, 3, 2, 8, 0, 4, 9, 3, 4, 7, 5, 1, 2, 7, 1, 8, 1, 2, 9, 6, 2, 3, 4, 9, 1, 6, 8, 0, 6, 0, 6, 2, 6, 4, 9, 7, 6, 9, 5, 6, 8, 0, 0, 4, 5, 5, 5, 4, 3, 4, 3, 1, 7, 0, 4, 9, 7, 2, 2, 1, 5, 0, 8, 8, 4, 9, 4, 0, 8, 0, 1, 7, 4, 7, 2, 5, 3, 5, 5, 6, 9, 0, 8, 4, 1, 9, 1, 0, 5, 4, 9, 3, 1, 0, 2, 5, 0, 3, 0, 8, 5, 5, 6, 6, 8, 2, 3, 4, 7, 8, 2, 0, 4, 3, 3, 0, 8, 7, 5, 5, 3, 9, 3, 4, 5, 8, 5, 4, 4, 4, 2, 2, 0, 0, 0, 4, 4, 2, 7, 2, 9, 8, 8, 8, 6, 3, 5, 3, 3, 8, 8, 0, 1, 9, 4, 7, 2, 7, 0, 0, 0, 2, 1, 1, 9, 8, 4, 4, 1, 2, 4, 4, 8, 4, 1, 4, 0, 0, 8, 5, 2, 9, 2, 6, 7, 6, 5, 4, 9, 0, 6, 9, 1, 9, 0, 1, 9, 7, 8, 5, 7, 9, 4, 5, 1, 1, 9, 0, 9, 3, 8, 5, 0, 5, 9, 8, 2, 5, 3, 8, 7, 0, 0, 4, 4, 3, 2, 7, 1, 6, 5, 2, 1, 4, 2, 0, 2, 5, 9, 4, 5, 5, 9, 4, 3, 5, 6, 5, 2, 4, 8, 4, 4, 6, 3, 3, 0, 5, 3, 3, 4, 0, 5, 4, 9, 2, 6, 1, 3, 4, 0, 1, 8, 6, 7, 8, 5, 6, 4, 4, 6, 8, 3, 7, 3, 6, 8, 5, 1, 5, 0, 9, 1, 9, 1, 9, 2, 6, 5, 6, 1, 7, 0, 0, 6, 1, 2, 9, 6, 9, 1, 7, 0, 8, 3, 5, 2, 9, 4, 7, 9, 7, 6, 2, 3, 4, 8, 3, 8, 9, 1, 4, 4, 2, 7, 4, 5, 2, 4, 8, 0, 8, 2, 5, 2, 1, 5, 2, 1, 5, 7, 9, 1, 0, 6, 2, 3, 9, 5, 6, 5, 4, 4, 4, 6, 2, 8, 7, 0, 1, 2, 5, 5, 8, 5, 0, 8, 0, 5, 3, 7, 3, 9, 0, 3, 5, 5, 4, 5, 3, 9, 1, 4, 0, 4, 7, 6, 1, 9, 5, 8, 5, 3, 0, 5, 5, 3, 6, 0, 5, 9, 2, 7, 2, 4, 3, 8, 5, 5, 4, 7, 6, 1, 5, 5, 1, 2, 0, 1, 1, 8, 2, 7, 6, 1, 9, 1, 1, 8, 1, 5, 1, 8, 5, 7, 9, 6, 3, 6, 1, 0, 6, 5, 4, 6, 7, 2, 9, 3, 8, 8, 3, 3, 3, 7, 0, 5, 5, 0, 2, 0, 9, 1, 3, 9, 2, 6, 0, 6, 9, 3, 2, 9, 4, 5, 6, 0, 1, 4, 5, 6, 5, 1, 0, 5, 3, 3, 9, 1, 1, 0, 8, 7, 9, 4, 1, 8, 9, 1, 3, 5, 2, 5, 8, 3, 9, 7, 3, 5, 3, 5, 8, 6, 2, 1, 0, 8, 5, 4, 6, 0, 5, 4, 8, 4, 8, 3, 3, 7, 3, 1, 8, 4, 2, 2, 0, 1, 7, 2, 1, 4, 3, 2, 3, 5, 8, 9, 1, 5, 9, 3, 4, 6, 4, 3, 6, 3, 8, 6, 8, 8, 1, 2, 2, 0, 5, 2, 1, 4, 3, 2, 3, 2, 8, 0, 6, 1, 5, 8, 0, 2, 2, 1, 3, 2, 6, 7, 8, 7, 2, 0, 6, 1, 7, 6, 2, 2, 1, 0, 5, 6, 6, 9, 5, 4, 3, 6, 2, 8, 4, 7, 4, 5, 0, 8, 6, 9, 0, 9, 2, 9, 6, 2, 5, 7, 1, 4, 9, 9, 0, 4, 7, 3, 8, 1, 2, 0, 1, 2, 9, 7, 0, 6, 3, 2, 6, 9, 2, 1, 8, 2, 2, 4, 8, 1, 0, 5, 5, 6, 2, 1, 6, 1, 8, 5, 1, 5, 2, 9, 6, 0, 5, 8, 6, 5, 4, 2, 0, 6, 8, 7, 8, 5, 7, 0, 3, 1, 1, 5, 0, 6, 0, 8, 1, 6, 1, 4, 8, 4, 1, 6, 5, 8, 3, 3, 1, 7, 8, 4, 1, 7, 8, 1, 6, 9, 7, 7, 2, 3, 8, 6, 0, 1, 5, 3, 1, 5, 2, 8, 9, 9, 8, 8, 1, 5, 3, 9, 1, 5, 2, 9, 4, 9, 1, 9, 1, 0, 5, 8, 3, 0, 8, 4, 9, 8, 5, 1, 2, 9, 2, 7, 9, 2, 8, 4, 8, 3, 8, 4, 0, 9, 4, 4, 7, 9, 1, 3, 6, 8, 4, 7, 7, 9, 1, 1, 6, 1, 1, 6, 3, 3, 3, 5, 5, 0, 1, 2, 8, 4, 1, 8, 7, 9, 9, 2, 3, 7, 3, 4, 5, 2, 8, 5, 2, 4, 6, 5, 2, 2, 5, 5, 0, 4, 6, 2, 2, 8, 5, 2, 2, 4, 1, 8, 7, 7, 9, 6, 0, 4, 8, 8, 5, 5, 2, 9, 2, 2, 0, 8, 3, 4, 1, 0, 1, 7, 0, 1, 4, 2, 7, 3, 5, 1, 7, 1, 5, 8, 9, 1, 8, 2, 3, 0, 7, 7, 9, 7, 9, 2, 8, 7, 2, 8, 4, 6, 4, 3, 5, 2, 4, 8, 2, 3, 5, 4, 0, 5, 6, 1, 6, 2, 5, 1, 2, 0, 0, 0, 3, 9, 9, 7, 7, 2, 4, 2, 8, 5, 8, 7, 9, 5, 0, 5, 2, 6, 5, 0, 9, 2, 0, 6, 2, 2, 0, 5, 7, 4, 8, 2, 3, 7, 1, 7, 8, 3, 5, 6, 3, 9, 4, 5, 5, 9, 9, 0, 7, 2, 9, 9, 3, 2, 8, 3, 9, 6, 7, 2, 3, 4, 4, 4, 9, 8, 5, 8, 8, 5, 7, 1, 7, 7, 0, 2, 9, 4, 2, 8, 0, 5, 5, 5, 7, 3, 0, 2, 4, 6, 4, 6, 3, 0, 8, 1, 6, 0, 7, 0, 1, 3, 1, 7, 4, 3, 0, 5, 3, 1, 0, 9, 6, 5, 0, 5, 5, 4, 5, 9, 8, 4, 8, 2, 9, 1, 6, 3, 2, 4, 0, 1, 2, 4, 1, 1, 1, 4, 6, 2, 5, 5, 7, 7, 6, 0, 1, 7, 2, 4, 8, 8, 4, 2, 5, 9, 9, 8, 6, 5, 7, 8, 4, 7, 6, 6, 3, 3, 3, 4, 4, 3, 6, 3, 7, 4, 9, 8, 4, 2, 1, 6, 2, 9, 5, 2, 1, 8, 1, 8, 4, 8, 8, 7, 8, 3, 6, 3, 0, 7, 7, 4, 9, 9, 5, 2, 0, 4, 4, 1, 4, 8, 7, 6, 1, 8, 4, 8, 7, 6, 2, 0, 8, 6, 9, 5, 1, 3, 4, 0, 1, 6, 5, 4, 4, 1, 4, 6, 8, 6, 3, 7, 9, 1, 8, 9, 8, 4, 6, 5, 2, 1, 3, 5, 8, 4, 9, 1, 5, 9, 8, 6, 4, 2, 8, 9, 4, 0, 1, 4, 2, 1, 1, 6, 1, 2, 7, 5, 1, 6, 5, 3, 9, 7, 3, 0, 3, 1, 2, 8, 2, 8, 1, 0, 2, 4, 7, 3, 6, 3, 6, 5, 6, 2, 7, 4, 8, 9, 3, 6, 8, 9, 0, 6, 9, 1, 6, 6, 4, 8, 5, 8, 0, 3, 4, 2, 7, 8, 1, 9, 9, 1, 2, 3, 5, 4, 9, 8, 9, 5, 2, 2, 1, 9, 1, 9, 2, 4, 1, 2, 6, 2, 2, 4, 0, 4, 5, 5, 4, 0, 3, 2, 1, 3, 5, 3, 7, 0, 3, 2, 7, 4, 0, 5, 4, 7, 5, 8, 6, 1, 1, 4, 1, 3, 4, 3, 5, 8, 2, 8, 4, 8, 8, 2, 6, 3, 5, 6, 4, 4, 0, 5, 6, 0, 7, 3, 1, 8, 0, 0, 1, 3, 4, 2, 2, 3, 9, 7, 4, 5, 7, 5, 1, 0, 5, 3, 3, 8, 9, 8, 8, 0, 0, 5, 3, 0, 3, 0, 4, 6, 5, 0, 1, 9, 8, 3, 5, 7, 6, 1, 6, 8, 2, 4, 5, 6, 1, 0, 8, 2, 9, 2, 4, 0, 3, 3, 3, 6, 8, 4, 2, 5, 0, 9, 9, 2, 0, 6, 4, 2, 5, 9, 8, 7, 3, 0, 4, 6, 5, 2, 6, 3, 6, 7, 2, 5, 5, 9, 3, 7, 0, 8, 9, 2, 3, 2, 4, 1, 0, 7, 0, 3, 4, 4, 0, 2, 5, 7, 8, 3, 2, 9, 7, 8, 9, 4, 8, 8, 3, 9, 7, 6, 2, 9, 9, 5, 5, 5, 6, 1, 6, 2, 0, 9, 5, 8, 5, 5, 8, 5, 9, 2, 8, 7, 0, 5, 9, 4, 6, 3, 8, 5, 6, 3, 0, 4, 3, 0, 2, 8, 9, 4, 8, 2, 4, 2, 7, 1, 3, 6, 3, 5, 7, 5, 4, 9, 7, 1, 8, 2, 8, 9, 9, 2, 4, 5, 5, 3, 4, 5, 5, 1, 5, 8, 7, 8, 8, 7, 0, 1, 0, 2, 6, 8, 8, 6, 6, 1, 3, 7, 0, 8, 1, 7, 6, 5, 5, 4, 5, 3, 9, 9, 2, 6, 9, 1, 7, 9, 2, 5, 4, 4, 0, 9, 4, 2, 6, 2, 9, 3, 3, 9, 3, 2, 7, 6, 4, 6, 8, 2, 0, 1, 9, 7, 4, 8, 1, 2, 0, 8, 2, 4, 0, 3, 0, 8, 2, 0, 3, 0, 5, 3, 7, 4, 7, 8, 6, 4, 7, 8, 3, 6, 2, 9, 5, 5, 6, 4, 5, 5, 0, 2, 1, 7, 4, 4, 3, 8, 0, 1, 0, 0, 1, 2, 8, 8, 4, 4, 9, 4, 8, 4, 8, 8, 5, 3, 4, 1, 7, 4, 8, 0, 8, 5, 4, 0, 7, 5, 1, 7, 8, 4, 2, 8, 7, 0, 3, 1, 4, 1, 6, 3, 2, 3, 1, 9, 5, 1, 2, 1, 5, 2, 0, 5, 6, 3, 8, 8, 9, 1, 5, 6, 7, 6, 6, 5, 9, 8, 0, 9, 3, 4, 6, 6, 4, 5, 5, 1, 1, 3, 2, 0, 5, 7, 0, 2, 2, 3, 6, 8, 1, 6, 2, 0, 0, 1, 8, 3, 3, 4, 1, 4, 1, 2, 2, 3, 3, 3, 2, 0, 5, 5, 2, 2, 9, 7, 0, 5, 5, 8, 8, 2, 2, 0, 6, 0, 8, 3, 5, 8, 0, 0, 5, 1, 4, 0, 6, 0, 5, 3, 4, 4, 9, 0, 5, 5, 9, 7, 0, 2, 8, 9, 1, 1, 4, 5, 2, 2, 3, 7, 5, 2, 3, 8, 4, 7, 8, 7, 9, 9, 0, 6, 9, 1, 0, 1, 8, 9, 6, 7, 5, 9, 7, 9, 8, 2, 5, 4, 3, 0, 3, 3, 2, 7, 0, 4, 7, 8, 1, 2, 0, 9, 0, 2, 9, 8, 3, 8, 2, 5, 2, 1, 3, 6, 6, 4, 8, 0, 3, 2, 6, 5, 1, 0, 1, 5, 5, 2, 6, 8, 1, 9, 9, 4, 8, 8, 4, 5, 8, 2, 5, 3, 0, 6, 4, 2, 2, 4, 8, 8, 2, 8, 5, 5, 4, 8, 2, 6, 6, 9, 1, 9, 1, 5, 3, 0, 0, 8, 3, 0, 1, 1, 9, 4, 1, 3, 4, 3, 1, 6, 6, 8, 0, 7, 5, 2, 7, 0, 0, 4, 1, 2, 3, 1, 4, 6, 2, 7, 6, 7, 5, 1, 2, 7, 5, 3, 8, 8, 8, 2, 3, 2, 2, 0, 8, 9, 6, 2, 6, 3, 8, 4, 0, 9, 2, 1, 7, 4, 0, 1, 4, 1, 3, 9, 3, 0, 1, 5, 1, 5, 8, 7, 5, 5, 2, 9, 5, 4, 2, 1, 6, 2, 2, 1, 7, 0, 6, 6, 8, 8, 8, 6, 6, 9, 8, 0, 7, 0, 7, 5, 9, 5, 9, 4, 8, 1, 8, 6, 8, 3, 4, 9, 8, 2, 9, 6, 2, 6, 0, 2, 9, 7, 1, 6, 1, 8, 5, 4, 6, 4, 5, 4, 1, 9, 5, 7, 4, 4, 8, 8, 5, 1, 9, 7, 8, 2, 0, 9, 2, 0, 9, 4, 6, 3, 6, 5, 3, 5, 3, 9, 5, 2, 1, 8, 0, 9, 9, 9, 0, 5, 2, 2, 1, 1, 1, 6, 4, 6, 3, 6, 4, 4, 0, 6, 9, 6, 5, 3, 2, 0, 9, 2, 8, 2, 1, 4, 9, 0, 2, 0, 0, 8, 0, 0, 9, 1, 3, 4, 6, 5, 9, 0, 4, 0, 3, 0, 4, 4, 4, 9, 1, 6, 1, 2, 2, 4, 7, 5, 0, 8, 8, 9, 7, 9, 5, 3, 2, 2, 5, 1, 1, 3, 2, 9, 0, 7, 3, 9, 3, 5, 3, 8, 7, 5, 3, 3, 7, 4, 6, 6, 6, 9, 0, 5, 3, 7, 8, 5, 2, 2, 3, 2, 2, 6, 6, 0, 1, 0, 0, 8, 7, 5, 5, 4, 9, 6, 5, 2, 1, 7, 0, 5, 3, 4, 7, 5, 4, 7, 0, 9, 0, 3, 1, 2, 3, 9, 5, 7, 3, 4, 7, 5, 6, 0, 5, 6, 4, 4, 7, 7, 4, 9, 0, 1, 8, 5, 8, 8, 0, 0, 3, 9, 7, 6, 2, 7, 5, 5, 3, 0, 4, 7, 8, 5, 6, 2, 2, 2, 7, 2, 7, 0, 8, 2, 5, 8, 4, 6, 5, 2, 1, 1, 0, 9, 5, 8, 4, 8, 8, 0, 2, 1, 4, 6, 9, 9, 8, 4, 2, 0, 8, 4, 9, 2, 4, 7, 1, 3, 1, 6, 3, 7, 7, 4, 8, 9, 0, 8, 5, 6, 0, 3, 7, 9, 3, 4, 3, 5, 4, 0, 0, 9, 1, 4, 5, 8, 6, 3, 4, 9, 1, 8, 4, 6, 3, 2, 0, 4, 4, 9, 1, 5, 7, 4, 1, 4, 7, 8, 7, 8, 5, 9, 2, 1, 6, 0, 0, 1, 5, 6, 5, 5, 0, 2, 3, 1, 6, 7, 5, 2, 6, 9, 3, 8, 2, 9, 7, 8, 5, 2, 8, 8, 3, 7, 6, 5, 4, 4, 6, 4, 5, 1, 7, 1, 2, 7, 4, 3, 4, 7, 0, 9, 4, 5, 3, 9, 0, 6, 9, 6, 3, 1, 3, 2, 3, 8, 7, 3, 8, 3, 9, 1, 8, 5, 4, 0, 2, 9, 4, 2, 1, 2, 6, 0, 1, 5, 5, 9, 4, 3, 5, 8, 8, 5, 0, 0, 0, 0, 9, 0, 2, 4, 6, 2, 9, 2, 4, 8, 9, 6, 3, 1, 5, 0, 3, 3, 1, 5, 5, 9, 7, 3, 8, 8, 4, 3, 5, 3, 4, 7, 1, 9, 9, 3, 5, 9, 6, 2, 6, 0, 3, 8, 0, 5, 3, 0, 3, 7, 5, 7, 3, 9, 7, 5, 5, 8, 8, 0, 9, 4, 9, 3, 6, 4, 9, 3, 5, 5, 5, 4, 2, 6, 0, 8, 1, 7, 4, 9, 2, 5, 0, 3, 5, 1, 3, 5, 1, 3, 8, 3, 9, 4, 5, 3, 4, 6, 8, 1, 5, 6, 5, 0, 7, 6, 3, 6, 6, 5, 8, 4, 9, 4, 2, 7, 8, 0, 2, 3, 2, 3, 1, 7, 9, 2, 8, 0, 6, 4, 1, 6, 3, 7, 8, 5, 0, 0, 5, 5, 3, 8, 8, 4, 3, 1, 8, 7, 3, 8, 7, 2, 5, 0, 2, 0, 1, 6, 0, 0, 5, 6, 9, 8, 4, 5, 4, 7, 3, 7, 6, 7, 2, 5, 8, 9, 4, 1, 2, 1, 5, 9, 6, 0, 5, 5, 4, 7, 3, 3, 0, 2, 4, 5, 4, 9, 0, 7, 3, 0, 2, 1, 8, 9, 0, 5, 7, 6, 4, 7, 1, 2, 7, 5, 1, 4, 5, 7, 0, 7, 0, 0, 3, 8, 1, 7, 1, 1, 3, 4, 6, 2, 5, 9, 5, 2, 5, 2, 2, 0, 2, 7, 2, 9, 2, 1, 5, 3, 4, 9, 3, 7, 9, 2, 9, 8, 4, 8, 7, 5, 0, 6, 3, 8, 9, 4, 7, 2, 6, 1, 9, 4, 2, 8, 2, 2, 9, 3, 8, 2, 9, 1, 7, 2, 3, 1, 2, 7, 1, 9, 7, 1, 4, 7, 5, 5, 1, 3, 4, 1, 1, 2, 4, 2, 7, 0, 2, 4, 3, 5, 5, 4, 5, 1, 4, 7, 6, 5, 2, 2, 6, 7, 5, 7, 3, 7, 4, 2, 4, 1, 4, 8, 5, 4, 9, 7, 3, 6, 0, 9, 8, 1, 2, 2, 6, 1, 2, 4, 8, 2, 4, 7, 5, 0, 9, 5, 5, 1, 0, 7, 3, 2, 5, 1, 8, 1, 5, 3, 1, 0, 9, 2, 2, 7, 6, 1, 3, 4, 8, 6, 8, 3, 4, 3, 3, 2, 6, 0, 1, 6, 5, 4, 5, 5, 0, 6, 2, 9, 5, 3, 2, 9, 3, 6, 0, 7, 0, 8, 7, 3, 4, 9, 3, 4, 5, 5, 7, 7, 3, 0, 6, 7, 4, 8, 6, 8, 4, 9, 9, 1, 2, 5, 5, 4, 5, 5, 0, 4, 7, 5, 5, 1, 5, 5, 8, 6, 7, 7, 5, 2, 6, 5, 6, 0, 2, 8, 6, 5, 1, 4, 0, 7, 8, 4, 5, 9, 9, 8, 8, 8, 1, 3, 4, 1, 6, 2, 0, 0, 4, 5, 8, 8, 7, 7, 3, 0, 4, 6, 1, 8, 3, 1, 2, 6, 4, 9, 9, 9, 6, 6, 0, 1, 0, 0, 3, 8, 1, 3, 0, 7, 4, 6, 7, 3, 2, 5, 2, 4, 1, 4, 0, 4, 8, 6, 8, 4, 5, 8, 2, 0, 7, 4, 7, 4, 4, 3, 6, 0, 2, 5, 6, 7, 6, 9, 7, 0, 9, 2, 1, 4, 3, 3, 2, 0, 2, 6, 8, 9, 2, 5, 5, 4, 7, 5, 5, 3, 9, 3, 1, 5, 6, 5, 3, 2, 9, 0, 3, 1, 3, 2, 1, 0, 4, 5, 1, 3, 4, 0, 6, 4, 1, 0, 1, 6, 7, 5, 9, 5, 7, 3, 5, 5, 2, 0, 5, 9, 0, 0, 8, 6, 6, 3, 4, 5, 3, 1, 4, 3, 5, 1, 3, 1, 7, 6, 0, 4, 1, 8, 6, 9, 9, 4, 5, 2, 4, 8, 1, 3, 0, 3, 3, 6, 1, 2, 9, 2, 3, 7, 1, 6, 2, 3, 1, 5, 0, 2, 6, 3, 6, 4, 5, 4, 4, 9, 0, 9, 9, 3, 4, 0, 8, 8, 4, 3, 0, 9, 7, 1, 0, 5, 7, 3, 3, 7, 3, 0, 2, 1, 2, 4, 1, 5, 6, 7, 1, 0, 5, 2, 6, 9, 6, 2, 0, 7, 3, 1, 5, 1, 2, 1, 4, 1, 8, 4, 8, 1, 9, 5, 9, 7, 0, 3, 4, 7, 1, 2, 9, 5, 9, 6, 9, 0, 4, 7, 7, 4, 8, 5, 5, 4, 8, 0, 1, 3, 4, 9, 0, 7, 9, 5, 0, 3, 8, 0, 5, 5, 6, 7, 2, 5, 9, 4, 6, 6, 9, 4, 8, 0, 3, 0, 9, 0, 1, 2, 1, 3, 9, 2, 2, 8, 4, 0, 8, 6, 2, 7, 5, 2, 9, 2, 0, 5, 3, 5, 0, 5, 4, 3, 3, 1, 4, 8, 9, 9, 0, 8, 8, 1, 7, 3, 3, 1, 8, 6, 6, 8, 1, 8, 7, 4, 8, 5, 1, 7, 4, 0, 5, 6, 5, 1, 1, 4, 7, 8, 6, 6, 9, 4, 9, 1, 0, 1, 2, 4, 4, 0, 2, 0, 8, 3, 2, 7, 4, 7, 9, 0, 9, 0, 6, 4, 0, 1, 7, 2, 0, 2, 9, 1, 0, 9, 5, 7, 3, 0, 8, 8, 1, 5, 2, 4, 6, 2, 1, 0, 0, 4, 7, 7, 9, 2, 3, 1, 7, 4, 8, 5, 0, 0, 0, 5, 6, 5, 3, 1, 8, 0, 1, 0, 4, 0, 0, 7, 5, 2, 0, 8, 9, 9, 9, 8, 3, 6, 2, 8, 4, 7, 2, 7, 3, 8, 1, 6, 6, 8, 7, 2, 7, 3, 5, 4, 6, 3, 3, 5, 7, 6, 2, 3, 0, 0, 9, 3, 2, 0, 4, 7, 5, 9, 7, 4, 5, 2, 2, 0, 2, 7, 2, 7, 5, 6, 4, 2, 4, 9, 7, 6, 5, 9, 9, 4, 8, 0, 1, 1, 1, 3, 8, 5, 5, 4, 5, 5, 1, 7, 8, 8, 7, 9, 0, 0, 9, 2, 8, 0, 8, 0, 7, 9, 5, 8, 4, 1, 0, 3, 3, 0, 4, 5, 2, 8, 3, 6, 7, 3, 8, 2, 9, 8, 5, 6, 6, 9, 0, 5, 9, 9, 8, 0, 7, 2, 3, 4, 6, 6, 3, 1, 1, 5, 6, 4, 0, 4, 7, 8, 9, 6, 3, 6, 9, 2, 5, 6, 6, 7, 5, 3, 5, 7, 1, 2, 3, 7, 3, 5, 1, 8, 5, 2, 6, 8, 2, 5, 3, 3, 4, 3, 2, 5, 7, 6, 2, 7, 0, 0, 7, 4, 4, 9, 7, 5, 9, 9, 4, 1, 7, 3, 4, 5, 2, 0, 9, 4, 3, 6, 6, 0, 6, 0, 9, 6, 1, 4, 9, 6, 1, 9, 5, 9, 8, 4, 8, 4, 3, 4, 3, 3, 3, 9, 9, 1, 7, 4, 9, 5, 2, 3, 5, 4, 7, 6, 6, 6, 0, 0, 9, 7, 2, 1, 4, 2, 3, 8, 2, 0, 4, 6, 5, 1, 5, 3, 2, 0, 4, 0, 0, 6, 8, 2, 9, 9, 2, 0, 5, 1, 4, 0, 3, 7, 3, 7, 1, 2, 2, 6, 7, 9, 1, 2, 9, 7, 8, 0, 0, 9, 7, 9, 1, 6, 0, 8, 1, 3, 5, 6, 4, 2, 2, 8, 2, 4, 5, 8, 4, 6, 8, 7, 4, 8, 0, 7, 6, 7, 4, 7, 7, 8, 7, 0, 5, 2, 4, 2, 3, 7, 2, 7, 9, 9, 5, 1, 1, 2, 2, 6, 3, 2, 0, 2, 9, 1, 7, 8, 3, 3, 6, 5, 9, 5, 7, 3, 3, 4, 3, 8, 3, 1, 5, 7, 2, 4, 0, 1, 8, 4, 3, 8, 9, 9, 1, 5, 7, 2, 7, 9, 5, 9, 6, 0, 0, 2, 6, 2, 5, 7, 6, 2, 3, 4, 5, 8, 4, 3, 7, 5, 5, 9, 6, 4, 5, 8, 2, 2, 2, 8, 8, 4, 5, 5, 3, 7, 8, 2, 1, 9, 0, 0, 6, 3, 2, 7, 2, 1, 9, 0, 3, 8, 3, 6, 5, 4, 6, 8, 0, 2, 5, 4, 5, 3, 4, 9, 6, 4, 9, 4, 4, 4, 9, 9, 6, 8, 9, 5, 0, 5, 7, 6, 3, 3, 8, 5, 7, 9, 3, 2, 8, 8, 8, 5, 6, 3, 2, 0, 5, 5, 0, 2, 4, 4, 8, 7, 2, 8, 5, 0, 1, 9, 7, 1, 5, 6, 4, 6, 2, 6, 2, 2, 7, 3, 8, 5, 2, 7, 1, 3, 3, 3, 8, 1, 4, 9, 2, 9, 0, 2, 3, 7, 9, 9, 6, 3, 2, 2, 0, 1, 4, 7, 5, 8, 3, 6, 5, 6, 6, 7, 4, 4, 2, 7, 2, 7, 2, 7, 0, 4, 9, 0, 3, 0, 0, 6, 2, 5, 1, 0, 0, 5, 5, 9, 1, 7, 2, 1, 8, 3, 9, 2, 3, 9, 6, 8, 1, 1, 0, 0, 5, 6, 1, 9, 8, 1, 8, 4, 7, 8, 1, 1, 2, 1, 5, 2, 6, 4, 4, 3, 9, 0, 1, 5, 7, 3, 3, 7, 1, 1, 7, 6, 8, 0, 7, 9, 7, 4, 8, 9, 3, 5, 3, 5, 2, 8, 1, 3, 3, 6, 7, 4, 3, 9, 4, 7, 4, 2, 5, 1, 0, 0, 6, 9, 8, 6, 5, 0, 2, 8, 1, 7, 2, 0, 5, 5, 5, 0, 4, 7, 5, 9, 6, 4, 1, 9, 7, 2, 9, 5, 8, 5, 8, 4, 3, 8, 8, 7, 2, 2, 2, 3, 5, 2, 9, 7, 2, 2, 5, 1, 3, 7, 2, 1, 5, 3, 9, 6, 3, 2, 7, 2, 5, 0, 6, 8, 7, 5, 0, 3, 2, 1, 6, 4, 1, 5, 5, 5, 1, 4, 5, 1, 2, 2, 8, 5, 3, 8, 5, 2, 7, 6, 5, 0, 1, 2, 6, 6, 5, 4, 4, 2, 2, 9, 0, 8, 2, 2, 9, 8, 3, 1, 7, 4, 5, 5, 4, 2, 6, 7, 6, 9, 1, 6, 2, 0, 9, 8, 1, 9, 7, 2, 0, 6, 9, 8, 7, 1, 2, 0, 3, 4, 0, 7, 9, 5, 0, 5, 9, 4, 2, 7, 5, 6, 0, 7, 6, 2, 9, 9, 0, 1, 4, 0, 7, 7, 3, 5, 5, 4, 7, 2, 0, 1, 1, 7, 9, 0, 3, 2, 5, 5, 6, 5, 3, 3, 1, 5, 2, 0, 5, 1, 1, 2, 1, 1, 9, 3, 8, 4, 6, 0, 9, 6, 7, 3, 4, 3, 7, 0, 5, 5, 0, 2, 5, 4, 0, 2, 4, 1, 2, 6, 0, 3, 0, 7, 2, 8, 9, 0, 1, 2, 9, 3, 0, 0, 5, 1, 6, 4, 1, 4, 9, 5, 6, 7, 0, 1, 7, 9, 3, 3, 5, 3, 8, 3, 3, 8, 5, 0, 5, 6, 7, 5, 5, 9, 4, 9, 4, 3, 4, 7, 7, 4, 1, 6, 2, 7, 1, 0, 1, 5, 1, 9, 9, 5, 3, 7, 9, 0, 9, 7, 9, 4, 9, 1, 4, 8, 1, 5, 4, 9, 9, 2, 1, 5, 8, 0, 7, 6, 0, 3, 3, 1, 9, 5, 8, 8, 4, 6, 8, 0, 0, 5, 8, 8, 1, 4, 4, 0, 1, 8, 1, 8, 3, 5, 1, 1, 5, 0, 6, 4, 0, 8, 4, 4, 5, 2, 3, 5, 8, 0, 0, 2, 9, 0, 2, 2, 1, 7, 6, 9, 8, 0, 4, 7, 2, 1, 4, 2, 6, 4, 5, 0, 8, 2, 5, 5, 1, 7, 9, 7, 1, 0, 8, 8, 4, 7, 2, 5, 5, 4, 5, 2, 1, 2, 5, 4, 2, 1, 2, 3, 8, 6, 9, 4, 4, 8, 6, 5, 5, 8, 6, 7, 6, 2, 1, 3, 7, 1, 6, 4, 8, 0, 0, 0, 3, 1, 8, 6, 8, 0, 0, 9, 5, 9, 5, 5, 8, 3, 7, 7, 1, 4, 9, 7, 5, 0, 5, 8, 0, 1, 2, 8, 7, 6, 3, 1, 3, 0, 3, 8, 7, 5, 2, 0, 4, 9, 0, 2, 4, 2, 5, 2, 6, 1, 5, 4, 8, 6, 0, 7, 8, 6, 0, 4, 3, 5, 5, 7, 2, 1, 2, 2, 5, 1, 4, 2, 2, 1, 5, 0, 2, 6, 5, 8, 2, 2, 6, 1, 0, 2, 6, 5, 7, 4, 1, 2, 2, 2, 3, 1, 6, 8, 5, 0, 0, 0, 3, 4, 3, 2, 7, 2, 6, 1, 6, 6, 2, 9, 8, 0, 9, 9, 7, 0, 5, 2, 2, 6, 6, 4, 9, 4, 7, 7, 9, 9, 1, 7, 5, 1, 6, 5, 9, 8, 4, 7, 0, 3, 0, 0, 8, 5, 9, 1, 9, 2, 9, 5, 3, 8, 0, 4, 2, 8, 3, 0, 5, 8, 4, 4, 7, 4, 8, 5, 8, 7, 2, 4, 5, 4, 7, 7, 0, 3, 8, 3, 4, 2, 8, 0, 3, 1, 7, 8, 7, 6, 3, 6, 7, 2, 8, 2, 9, 4, 2, 2, 8, 8, 5, 5, 3, 1, 9, 9, 0, 7, 3, 2, 0, 0, 1, 8, 1, 8, 7, 7, 0, 7, 0, 8, 6, 0, 6, 5, 9, 7, 4, 6, 6, 9, 6, 0, 5, 7, 6, 5, 7, 0, 9, 6, 5, 1, 0, 4, 5, 4, 1, 1, 5, 2, 5, 7, 5, 6, 5, 3, 7, 2, 2, 0, 2, 1, 3, 2, 5, 8, 4, 4, 6, 8, 5, 4, 2, 2, 0, 6, 7, 4, 8, 1, 7, 9, 3, 2, 3, 3, 0, 4, 4, 1, 2, 0, 8, 2, 9, 9, 5, 4, 7, 4, 6, 0, 4, 5, 5, 9, 6, 7, 0, 3, 2, 5, 0, 0, 5, 3, 4, 8, 6, 4, 8, 3, 1, 5, 1, 2, 3, 4, 7, 4, 2, 5, 8, 9, 4, 3, 6, 0, 9, 8, 9, 9, 9, 5, 3, 9, 2, 5, 2, 1, 7, 7, 6, 8, 2, 3, 8, 3, 1, 5, 0, 1, 3, 6, 8, 4, 2, 3, 2, 1, 0, 7, 0, 6, 8, 2, 5, 6, 0, 6, 1, 6, 3, 5, 1, 6, 2, 2, 2, 1, 4, 6, 3, 5, 8, 8, 6, 1, 6, 6, 1, 8, 2, 5, 7, 3, 5, 3, 2, 1, 9, 2, 7, 4, 2, 3, 3, 1, 9, 6, 2, 8, 5, 6, 2, 5, 1, 0, 5, 0, 3, 7, 7, 8, 9, 7, 2, 2, 9, 0, 1, 3, 3, 9, 8, 6, 2, 5, 0, 6, 2, 2, 0, 9, 8, 1, 0, 0, 7, 7, 7, 3, 6, 6, 7, 4, 8, 9, 8, 4, 7, 6, 8, 3, 4, 2, 8, 2, 6, 0, 9, 2, 7, 4, 6, 9, 8, 9, 8, 8, 7, 5, 1, 2, 5, 1, 8, 9, 9, 0, 7, 5, 3, 9, 0, 6, 7, 3, 5, 2, 0, 2, 0, 3, 5, 3, 7, 4, 6, 3, 2, 2, 2, 0, 4, 4, 7, 2, 5, 3, 8, 7, 7, 8, 0, 8, 0, 1, 1, 6, 9, 6, 8, 8, 9, 9, 2, 8, 6, 5, 9, 2, 7, 8, 1, 4, 5, 8, 8, 6, 8, 3, 0, 2, 2, 3, 2, 7, 4, 8, 7, 0, 6, 5, 0, 5, 3, 0, 3, 0, 5, 8, 7, 1, 2, 8, 9, 8, 4, 0, 9, 8, 3, 5, 2, 8, 5, 7, 5, 3, 8, 1, 3, 8, 1, 5, 8, 5, 9, 3, 7, 3, 8, 8, 3, 3, 4, 5, 4, 6, 5, 5, 0, 4, 9, 9, 9, 0, 7, 5, 7, 4, 5, 0, 4, 2, 3, 7, 5, 5, 3, 5, 4, 1, 0, 4, 0, 8, 4, 3, 1, 7, 3, 6, 6, 6, 1, 0, 1, 8, 3, 5, 2, 1, 2, 3, 8, 1, 3, 7, 2, 5, 0, 2, 2, 3, 2, 7, 9, 6, 8, 6, 3, 3, 5, 7, 2, 9, 7, 3, 9, 0, 0, 2, 7, 2, 2, 4, 7, 3, 1, 5, 7, 6, 8, 2, 6, 5, 2, 0, 0, 2, 3, 4, 6, 9, 5, 5, 7, 0, 1, 9, 0, 5, 1, 2, 1, 5, 5, 2, 4, 3, 2, 8, 9, 4, 5, 3, 4, 9, 2, 9, 8, 7, 1, 5, 3, 4, 4, 0, 4, 2, 6, 1, 4, 7, 1, 7, 5, 6, 8, 4, 2, 0, 0, 1, 1, 6, 8, 4, 9, 7, 8, 0, 4, 4, 0, 0, 7, 2, 5, 5, 8, 0, 4, 9, 7, 5, 5, 8, 4, 6, 5, 6, 9, 3, 5, 6, 0, 2, 6, 0, 4, 4, 6, 4, 2, 3, 9, 8, 6, 4, 7, 9, 0, 1, 4, 0, 8, 8, 6, 4, 2, 0, 2, 0, 2, 5, 2, 9, 3, 5, 2, 6, 6, 1, 5, 7, 0, 0, 3, 7, 8, 6, 8, 2, 3, 9, 9, 0, 9, 4, 6, 4, 6, 3, 6, 0, 8, 6, 8, 6, 5, 0, 2, 3, 7, 3, 0, 6, 2, 2, 1, 2, 4, 5, 2, 1, 1, 4, 9, 0, 5, 7, 9, 0, 6, 9, 8, 1, 1, 2, 5, 5, 1, 1, 5, 6, 3, 9, 3, 6, 0, 1, 5, 6, 5, 0, 0, 8, 6, 5, 9, 7, 5, 4, 7, 2, 1, 6, 4, 4, 0, 4, 9, 7, 3, 3, 1, 5, 9, 8, 0, 2, 2, 1, 2, 1, 7, 2, 2, 5, 3, 2, 1, 8, 2, 7, 1, 1, 1, 5, 2, 9, 9, 3, 7, 1, 0, 5, 9, 0, 8, 6, 4, 4, 2, 2, 1, 8, 2, 7, 2, 5, 2, 1, 8, 2, 9, 7, 0, 7, 7, 1, 4, 0, 0, 4, 8, 5, 2, 9, 9, 5, 4, 4, 0, 2, 4, 5, 3, 3, 3, 7, 8, 6, 8, 1, 1, 3, 3, 3, 7, 8, 6, 9, 0, 3, 9, 7, 7, 9, 2, 1, 0, 3, 5, 4, 9, 8, 0, 0, 2, 9, 7, 0, 7, 6, 9, 5, 6, 6, 4, 5, 1, 0, 5, 4, 3, 7, 2, 8, 9, 7, 5, 0, 1, 4, 5, 2, 0, 7, 3, 1, 5, 1, 4, 9, 0, 3, 7, 1, 4, 9, 4, 2, 5, 0, 3, 0, 1, 6, 8, 3, 3, 6, 4, 4, 1, 6, 7, 5, 4, 5, 7, 7, 2, 2, 3, 2, 5, 3, 9, 5, 5, 7, 1, 7, 0, 2, 7, 0, 9, 5, 0, 0, 6, 1, 0, 1, 6, 6, 9, 3, 4, 5, 8, 0, 4, 6, 2, 1, 8, 5, 2, 0, 0, 1, 7, 0, 8, 8, 4, 5, 5, 5, 6, 8, 7, 5, 2, 1, 0, 5, 3, 6, 0, 9, 6, 8, 2, 7, 2, 7, 1, 8, 5, 4, 5, 1, 1, 0, 9, 8, 9, 8, 1, 8, 4, 8, 7, 6, 1, 0, 7, 6, 0, 2, 2, 9, 4, 9, 9, 1, 5, 7, 5, 6, 4, 5, 5, 3, 7, 9, 1, 9, 3, 5, 7, 0, 5, 5, 0, 2, 0, 9, 6, 0, 1, 2, 6, 6, 9, 1, 5, 0, 1, 1, 3, 8, 8, 2, 7, 6, 6, 3, 1, 3, 4, 9, 0, 6, 2, 6, 3, 0, 9, 4, 2, 6, 0, 2, 5, 3, 9, 8, 8, 2, 8, 5, 0, 4, 3, 0, 7, 1, 6, 2, 3, 6, 4, 3, 9, 2, 9, 7, 2, 3, 9, 2, 2, 7, 8, 6, 2, 7, 1, 4, 8, 5, 0, 2, 0, 7, 0, 3, 0, 2, 0, 5, 5, 6, 2, 4, 0, 5, 6, 5, 4, 3, 2, 6, 1, 6, 0, 1, 0, 8, 5, 0, 1, 9, 2, 2, 0, 3, 9, 8, 6, 8, 0, 1, 9, 4, 9, 5, 9, 8, 4, 9, 6, 9, 9, 5, 6, 2, 0, 3, 5, 5, 1, 4, 1, 6, 4, 5, 5, 9, 2, 9, 8, 7, 6, 9, 2, 7, 8, 3, 5, 1, 6, 0, 8, 7, 8, 7, 0, 2, 0, 1, 3, 9, 8, 4, 5, 4, 2, 9, 8, 2, 9, 1, 6, 8, 2, 4, 2, 8, 3, 1, 2, 2, 6, 7, 1, 0, 0, 0, 4, 3, 7, 2, 5, 6, 8, 6, 2, 2, 8, 1, 8, 2, 8, 7, 1, 1, 0, 5, 9, 5, 5, 0, 2, 2, 3, 9, 8, 5, 5, 0, 5, 8, 2, 1, 1, 5, 2, 5, 5, 7, 4, 5, 9, 0, 8, 4, 3, 7, 1, 5, 9, 4, 6, 7, 5, 9, 5, 3, 2, 0, 3, 4, 8, 2, 3, 7, 0, 2, 6, 4, 5, 5, 7, 1, 4, 9, 9, 1, 5, 4, 8, 7, 5, 0, 7, 4, 4, 8, 5, 8, 6, 5, 8, 2, 1, 8, 3, 1, 6, 4, 1, 0, 5, 9, 9, 0, 4, 5, 3, 2, 6, 1, 9, 0, 6, 1, 4, 2, 1, 4, 5, 2, 3, 9, 0, 5, 8, 3, 9, 9, 4, 9, 0, 9, 4, 5, 1, 3, 4, 6, 5, 7, 7, 1, 5, 7, 7, 7, 6, 0, 3, 1, 0, 2, 5, 3, 1, 9, 0, 4, 4, 3, 1, 7, 4, 4, 9, 1, 0, 4, 5, 8, 7, 0, 4, 4, 1, 6, 5, 7, 9, 7, 2, 4, 8, 1, 7, 3, 9, 4, 0, 7, 5, 8, 0, 8, 7, 7, 2, 2, 8, 3, 6, 8, 2, 7, 3, 4, 9, 4, 8, 5, 0, 4, 7, 4, 4, 2, 4, 1, 9, 6, 4, 0, 1, 7, 2, 5, 2, 0, 7, 6, 4, 8, 9, 2, 4, 6, 2, 8, 9, 8, 2, 1, 9, 7, 5, 2, 7, 2, 3, 6, 5, 4, 1, 1, 7, 0, 3, 0, 3, 6, 4, 7, 4, 4, 9, 6, 9, 1, 6, 8, 1, 6, 3, 8, 9, 7, 4, 2, 3, 5, 9, 2, 6, 5, 5, 1, 8, 1, 2, 5, 4, 5, 0, 5, 5, 2, 1, 5, 4, 4, 1, 7, 7, 9, 7, 3, 2, 1, 4, 5, 2, 4, 8, 2, 8, 3, 3, 5, 2, 4, 3, 0, 8, 4, 8, 2, 6, 6, 5, 7, 4, 6, 2, 2, 5, 7, 5, 1, 9, 4, 0, 5, 1, 0, 0, 5, 6, 1, 2, 9, 2, 9, 2, 7, 7, 6, 7, 7, 6, 5, 1, 3, 7, 5, 3, 0, 4, 3, 0, 2, 2, 4, 7, 0, 9, 6, 9, 5, 7, 1, 8, 7, 2, 1, 3, 1, 5, 2, 1, 3, 2, 8, 0, 2, 3, 4, 5, 3, 0, 0, 8, 3, 8, 9, 5, 7, 2, 2, 6, 2, 8, 1, 2, 2, 3, 0, 1, 7, 9, 2, 7, 8, 8, 4, 3, 6, 8, 1, 1, 7, 0, 2, 9, 8, 9, 3, 5, 2, 8, 6, 0, 7, 3, 1, 1, 0, 9, 8, 6, 6, 1, 9, 3, 7, 0, 4, 5, 5, 4, 9, 1, 1, 3, 4, 1, 1, 5, 1, 0, 7, 1, 0, 7, 1, 7, 1, 2, 8, 2, 3, 1, 1, 3, 6, 4, 4, 8, 7, 3, 3, 5, 1, 4, 8, 3, 0, 0, 6, 0, 4, 2, 8, 4, 4, 4, 7, 6, 3, 7, 9, 8, 9, 9, 3, 2, 9, 8, 0, 5, 3, 3, 8, 4, 3, 5, 5, 9, 4, 2, 8, 5, 8, 8, 5, 3, 6, 3, 5, 1, 1, 2, 1, 0, 5, 5, 6, 9, 6, 8, 6, 3, 1, 2, 4, 2, 4, 2, 7, 4, 9, 3, 7, 8, 5, 0, 0, 7, 1, 2, 7, 5, 6, 1, 1, 2, 5, 3, 6, 2, 1, 3, 1, 0, 7, 6, 7, 3, 2, 9, 2, 8, 0, 2, 9, 3, 3, 2, 7, 5, 4, 6, 3, 8, 9, 5, 4, 1, 5, 4, 4, 2, 4, 6, 3, 9, 7, 5, 8, 8, 3, 6, 8, 9, 7, 2, 0, 8, 8, 9, 9, 4, 1, 3, 4, 0, 0, 8, 8, 9, 4, 3, 1, 2, 6, 6, 1, 6, 9, 1, 3, 2, 7, 0, 4, 2, 9, 2, 9, 3, 3, 5, 7, 7, 7, 0, 7, 1, 7, 5, 2, 0, 0, 2, 5, 5, 4, 8, 9, 3, 6, 5, 4, 6, 2, 0, 0, 5, 9, 7, 0, 2, 7, 6, 9, 8, 0, 2, 9, 6, 2, 8, 8, 1, 3, 5, 4, 2, 4, 5, 8, 0, 5, 1, 4, 4, 4, 9, 6, 7, 9, 3, 9, 0, 6, 2, 7, 3, 2, 2, 9, 6, 2, 9, 1, 7, 0, 5, 6, 2, 5, 9, 2, 8, 9, 6, 3, 0, 2, 5, 0, 5, 8, 9, 1, 8, 3, 1, 0, 3, 2, 0, 2, 5, 9, 1, 0, 5, 9, 6, 5, 3, 7, 7, 0, 9, 3, 5, 3, 4, 0, 4, 4, 7, 2, 5, 3, 7, 1, 2, 9, 7, 6, 2, 5, 4, 1, 8, 1, 6, 5, 3, 8, 6, 8, 1, 3, 7, 7, 6, 3, 3, 4, 0, 9, 2, 4, 3, 0, 2, 5, 5, 9, 5, 3, 1, 0, 0, 1, 2, 3, 3, 2, 2, 9, 8, 2, 9, 1, 4, 5, 3, 7, 7, 2, 0, 0, 2, 2, 6, 7, 0, 4, 4, 9, 0, 0, 6, 5, 9, 7, 9, 6, 7, 1, 4, 5, 7, 2, 0, 0, 0, 2, 9, 4, 0, 2, 0, 9, 8, 1, 0, 2, 3, 1, 8, 5, 9, 0, 2, 6, 8, 6, 2, 8, 2, 0, 4, 4, 2, 0, 5, 4, 6, 2, 7, 6, 1, 7, 5, 9, 9, 3, 9, 6, 3, 2, 0, 4, 9, 6, 7, 9, 5, 5, 1, 6, 3, 6, 7, 1, 7, 8, 0, 2, 0, 9, 9, 4, 2, 4, 5, 4, 7, 8, 8, 2, 7, 9, 2, 7, 5, 6, 7, 5, 9, 9, 6, 4, 0, 0, 5, 4, 2, 7, 3, 5, 1, 3, 6, 1, 0, 4, 1, 1, 0, 6, 6, 2, 1, 4, 1, 7, 1, 5, 8, 6, 9, 4, 6, 4, 4, 4, 8, 6, 4, 4, 3, 8, 0, 0, 3, 4, 5, 3, 2, 4, 7, 1, 6, 9, 4, 4, 5, 8, 4, 2, 2, 5, 2, 9, 6, 5, 0, 4, 2, 4, 1, 8, 5, 7, 1, 8, 9, 7, 5, 1, 5, 0, 1, 0, 6, 5, 0, 8, 8, 8, 9, 5, 2, 2, 3, 2, 9, 0, 6, 2, 6, 4, 0, 0, 3, 9, 4, 8, 7, 8, 0, 3, 5, 0, 1, 8, 0, 5, 8, 6, 1, 4, 2, 4, 1, 7, 0, 3, 6, 4, 7, 7, 3, 5, 9, 3, 8, 6, 2, 0, 7, 0, 0, 7, 0, 8, 1, 3, 2, 4, 0, 0, 1, 1, 3, 9, 3, 9, 4, 1, 1, 8, 2, 2, 1, 7, 9, 2, 9, 6, 5, 6, 3, 9, 7, 2, 8, 3, 5, 5, 2, 5, 1, 1, 7, 0, 4, 5, 8, 5, 3, 2, 1, 3, 2, 6, 7, 4, 0, 5, 4, 1, 0, 4, 3, 6, 7, 6, 4, 3, 6, 1, 9, 4, 5, 8, 9, 3, 3, 4, 4, 4, 0, 6, 4, 2, 6, 1, 0, 1, 5, 7, 2, 6, 4, 4, 1, 9, 2, 1, 6, 7, 3, 8, 7, 2, 4, 0, 6, 4, 7, 6, 9, 7, 2, 5, 5, 7, 9, 1, 4, 7, 1, 2, 5, 3, 2, 4, 2, 5, 2, 0, 8, 2, 7, 3, 8, 6, 2, 0, 2, 2, 5, 8, 0, 5, 2, 7, 4, 5, 7, 5, 0, 3, 4, 0, 2, 7, 3, 2, 4, 2, 3, 1, 2, 5, 9, 7, 9, 0, 5, 1, 3, 4, 7, 0, 4, 6, 0, 3, 4, 4, 2, 5, 3, 4, 4, 2, 2, 9, 2, 7, 0, 5, 2, 3, 9, 4, 3, 2, 2, 7, 2, 0, 5, 4, 5, 5, 9, 7, 6, 0, 7, 8, 5, 6, 0, 4, 4, 0, 3, 0, 1, 8, 3, 1, 3, 2, 0, 8, 9, 9, 4, 0, 3, 5, 1, 7, 5, 0, 7, 0, 4, 7, 3, 7, 8, 4, 4, 6, 0, 4, 3, 1, 1, 4, 6, 1, 6, 7, 1, 5, 4, 1, 0, 3, 8, 2, 2, 0, 5, 1, 4, 2, 1, 8, 5, 6, 6, 3, 4, 9, 9, 7, 4, 8, 2, 0, 0, 0, 4, 4, 2, 3, 2, 3, 2, 1, 3, 4, 1, 3, 3, 0, 0, 1, 8, 0, 6, 0, 3, 8, 1, 3, 0, 9, 6, 2, 6, 5, 5, 1, 3, 2, 4, 1, 8, 5, 9, 0, 2, 4, 4, 2, 8, 2, 3, 4, 7, 1, 3, 7, 1, 0, 1, 8, 2, 7, 6, 6, 9, 7, 5, 2, 5, 3, 2, 3, 2, 3, 3, 5, 8, 7, 9, 8, 2, 9, 4, 7, 3, 7, 8, 4, 2, 2, 0, 2, 0, 2, 7, 9, 2, 0, 4, 1, 1, 4, 2, 9, 5, 0, 4, 0, 4, 5, 2, 9, 7, 2, 4, 4, 1, 8, 2, 2, 0, 2, 6, 6, 2, 4, 0, 8, 7, 5, 0, 7, 4, 5, 5, 7, 4, 0, 1, 8, 1, 5, 3, 3, 2, 7, 3, 4, 1, 8, 6, 9, 9, 7, 2, 2, 0, 2, 5, 8, 4, 4, 7, 1, 2, 7, 1, 2, 2, 3, 6, 6, 9, 3, 3, 0, 3, 0, 0, 6, 1, 6, 9, 4, 9, 3, 4, 4, 6, 4, 0, 7, 6, 3, 0, 5, 2, 4, 9, 2, 8, 3, 7, 1, 8, 2, 1, 9, 6, 4, 4, 8, 8, 9, 4, 7, 8, 4, 5, 4, 9, 5, 5, 5, 6, 1, 2, 9, 2, 8, 1, 0, 8, 5, 7, 5, 7, 3, 9, 5, 2, 5, 8, 6, 4, 4, 8, 2, 2, 0, 5, 4, 1, 5, 8, 2, 1, 4, 2, 0, 4, 3, 2, 0, 4, 1, 8, 2, 9, 1, 4, 5, 6, 2, 9, 6, 0, 6, 8, 6, 8, 3, 4, 8, 7, 0, 3, 2, 2, 4, 6, 1, 7, 6, 2, 3, 8, 4, 2, 0, 5, 3, 3, 0, 7, 4, 4, 9, 5, 3, 3, 0, 1, 6, 5, 5, 4, 6, 4, 4, 7, 3, 8, 5, 4, 2, 7, 5, 6, 3, 8, 6, 4, 5, 3, 6, 8, 0, 7, 2, 7, 1, 6, 7, 1, 3, 9, 9, 5, 3, 5, 2, 0, 1, 9, 7, 1, 1, 8, 6, 4, 4, 0, 4, 1, 4, 1, 5, 2, 3, 6, 0, 1, 8, 0, 2, 4, 0, 1, 3, 4, 9, 3, 2, 8, 7, 6, 7, 4, 9, 0, 3, 4, 5, 7, 8, 7, 8, 9, 6, 4, 7, 4, 1, 5, 4, 7, 0, 0, 6, 7, 2, 7, 1, 4, 9, 2, 4, 3, 0, 9, 0, 2, 4, 1, 4, 3, 4, 5, 4, 0, 7, 8, 3, 9, 0, 7, 7, 1, 8, 6, 4, 9, 8, 7, 4, 0, 5, 1, 2, 4, 3, 6, 2, 9, 2, 6, 4, 4, 4, 4, 1, 6, 8, 1, 4, 2, 9, 1, 4, 4, 2, 8, 0, 5, 7, 1, 7, 6, 9, 1, 7, 3, 4, 1, 6, 2, 5, 2, 9, 2, 1, 2, 6, 2, 9, 3, 7, 7, 1, 0, 3, 1, 4, 6, 1, 6, 5, 4, 9, 0, 9, 2, 0, 5, 7, 9, 2, 5, 9, 2, 1, 3, 3, 8, 9, 1, 3, 3, 7, 9, 6, 6, 6, 7, 8, 4, 8, 8, 6, 2, 6, 1, 5, 6, 5, 7, 7, 3, 7, 5, 7, 0, 2, 3, 2, 3, 3, 4, 3, 6, 2, 2, 2, 1, 2, 2, 0, 4, 4, 2, 4, 3, 1, 9, 2, 2, 3, 3, 4, 5, 8, 8, 7, 7, 2, 4, 7, 4, 6, 0, 5, 9, 0, 0, 9, 0, 4, 9, 6, 8, 5, 9, 8, 5, 7, 9, 4, 8, 0, 2, 9, 2, 0, 9, 1, 0, 6, 7, 5, 4, 4, 8, 0, 0, 5, 2, 2, 8, 2, 2, 2, 1, 0, 5, 6, 5, 5, 6, 4, 4, 1, 2, 9, 5, 5, 3, 8, 8, 2, 7, 0, 5, 7, 7, 3, 9, 0, 8, 0, 6, 0, 1, 7, 7, 5, 4, 1, 3, 2, 6, 3, 7, 4, 5, 8, 4, 7, 7, 9, 2, 1, 5, 7, 1, 5, 9, 3, 6, 0, 0, 4, 0, 0, 5, 2, 1, 5, 8, 8, 7, 2, 7, 1, 4, 8, 4, 9, 6, 7, 2, 5, 3, 8, 1, 0, 1, 2, 7, 0, 7, 4, 8, 4, 7, 2, 8, 0, 0, 7, 1, 3, 3, 0, 6, 7, 1, 9, 7, 5, 3, 7, 0, 1, 1, 9, 4, 7, 5, 2, 5, 1, 0, 2, 9, 0, 2, 7, 0, 0, 3, 6, 5, 5, 4, 9, 3, 6, 2, 7, 4, 5, 7, 9, 0, 1, 1, 1, 0, 0, 1, 1, 0, 2, 2, 6, 6, 9, 3, 4, 0, 4, 3, 7, 3, 8, 8, 8, 0, 4, 7, 2, 2, 5, 1, 2, 3, 9, 3, 0, 9, 4, 0, 0, 6, 4, 9, 8, 1, 8, 8, 0, 7, 9, 5, 7, 6, 0, 2, 2, 6, 5, 9, 5, 4, 4, 3, 7, 7, 2, 9, 9, 9, 4, 5, 2, 9, 4, 3, 3, 4, 5, 6, 4, 8, 4, 3, 1, 8, 9, 7, 1, 9, 2, 5, 7, 7, 0, 5, 4, 7, 6, 6, 7, 9, 4, 4, 4, 5, 4, 7, 7, 2, 3, 1, 0, 5, 0, 7, 4, 5, 5, 9, 0, 4, 2, 1, 3, 1, 6, 1, 2, 6, 5, 7, 2, 3, 3, 6, 9, 3, 8, 4, 0, 8, 4, 1, 7, 5, 6, 5, 3, 2, 9, 5, 2, 3, 1, 0, 2, 3, 2, 2, 1, 1, 5, 9, 6, 1, 6, 4, 6, 8, 3, 5, 5, 1, 3, 4, 3, 1, 2, 6, 3, 9, 3, 7, 4, 2, 1, 8, 8, 0, 1, 8, 1, 4, 5, 9, 7, 0, 9, 2, 0, 0, 6, 1, 2, 8, 5, 6, 5, 2, 5, 9, 6, 0, 7, 3, 7, 1, 9, 2, 4, 6, 5, 3, 6, 5, 5, 8, 2, 3, 6, 8, 2, 4, 9, 0, 9, 6, 8, 5, 2, 6, 7, 9, 2, 0, 4, 1, 4, 6, 7, 7, 0, 7, 6, 4, 0, 0, 1, 2, 8, 0, 2, 1, 9, 7, 4, 8, 4, 8, 1, 9, 2, 2, 2, 5, 9, 7, 2, 2, 0, 1, 1, 3, 8, 0, 5, 2, 2, 6, 2, 1, 7, 8, 0, 2, 3, 3, 4, 3, 0, 5, 3, 9, 7, 4, 0, 9, 5, 2, 8, 4, 5, 8, 7, 0, 9, 0, 8, 9, 4, 0, 3, 8, 4, 5, 5, 9, 4, 7, 6, 5, 3, 6, 0, 3, 1, 4, 4, 3, 7, 0, 2, 6, 8, 9, 2, 8, 0, 9, 4, 1, 3, 2, 9, 0, 3, 3, 0, 2, 2, 6, 2, 3, 8, 8, 1, 6, 2, 3, 4, 3, 0, 9, 2, 0, 3, 7, 9, 1, 3, 2, 3, 2, 9, 1, 4, 2, 7, 0, 6, 1, 3, 9, 3, 5, 5, 5, 1, 2, 7, 8, 6, 8, 2, 7, 8, 7, 4, 0, 7, 8, 4, 8, 9, 3, 6, 7, 7, 1, 5, 4, 5, 9, 0, 5, 0, 7, 2, 7, 2, 1, 6, 1, 8, 3, 8, 9, 1, 7, 0, 2, 3, 3, 4, 2, 4, 5, 0, 1, 8, 4, 7, 9, 5, 8, 0, 8, 0, 5, 1, 5, 0, 0, 2, 2, 2, 5, 4, 8, 3, 0, 3, 4, 0, 9, 4, 2, 0, 6, 3, 8, 7, 2, 5, 5, 5, 7, 0, 8, 6, 8, 5, 3, 3, 3, 4, 6, 8, 2, 4, 6, 2, 1, 1, 8, 1, 0, 2, 0, 3, 4, 4, 2, 3, 1, 7, 6, 1, 4, 4, 6, 5, 5, 7, 3, 2, 6, 7, 3, 4, 3, 6, 6, 4, 4, 6, 9, 2, 8, 2, 8, 2, 6, 5, 2, 4, 0, 8, 4, 2, 0, 1, 1, 4, 0, 7, 7, 2, 3, 8, 1, 0, 0, 3, 6, 0, 7, 8, 0, 0, 8, 7, 1, 3, 7, 5, 8, 4, 2, 9, 2, 0, 5, 0, 2, 6, 7, 6, 6, 0, 5, 8, 3, 9, 7, 3, 5, 5, 3, 8, 4, 9, 1, 6, 1, 0, 0, 2, 0, 7, 8, 1, 8, 4, 6, 6, 6, 7, 2, 3, 4, 5, 4, 1, 0, 6, 9, 8, 4, 6, 7, 4, 2, 2, 5, 2, 4, 0, 0, 7, 7, 1, 5, 4, 2, 2, 2, 5, 7, 2, 9, 5, 8, 0, 6, 5, 6, 7, 6, 0, 6, 1, 9, 0, 9, 0, 5, 1, 8, 4, 4, 2, 3, 3, 3, 6, 3, 2, 1, 2, 2, 4, 2, 7, 1, 7, 8, 1, 5, 1, 5, 4, 1, 6, 0, 3, 0, 2, 0, 5, 7, 2, 6, 2, 8, 5, 2, 6, 1, 5, 3, 6, 2, 4, 1, 6, 9, 4, 5, 0, 3, 0, 9, 1, 2, 7, 5, 0, 3, 8, 5, 2, 3, 5, 5, 5, 3, 2, 8, 0, 6, 7, 1, 7, 0, 8, 6, 9, 8, 7, 8, 3, 2, 6, 4, 2, 8, 1, 0, 2, 0, 1, 5, 1, 6, 4, 7, 5, 1, 4, 4, 5, 2, 7, 5, 6, 4, 5, 5, 1, 1, 2, 2, 2, 3, 8, 3, 1, 1, 0, 2, 1, 3, 2, 3, 0, 2, 5, 1, 6, 6, 0, 7, 3, 8, 1, 2, 3, 0, 3, 8, 2, 9, 2, 0, 1, 0, 6, 1, 4, 4, 9, 9, 4, 9, 9, 3, 4, 1, 0, 2, 5, 5, 0, 9, 4, 7, 4, 4, 0, 2, 9, 5, 3, 4, 5, 2, 3, 2, 6, 3, 4, 1, 0, 2, 7, 0, 8, 5, 0, 4, 6, 6, 4, 3, 7, 0, 4, 2, 5, 3, 9, 1, 3, 2, 7, 0, 0, 0, 2, 8, 6, 8, 0, 0, 8, 5, 0, 1, 5, 7, 4, 5, 2, 5, 4, 1, 5, 9, 7, 0, 3, 7, 3, 8, 0, 5, 5, 0, 0, 2, 2, 1, 9, 6, 5, 1, 0, 2, 1, 8, 9, 9, 2, 5, 3, 9, 8, 1, 7, 6, 3, 7, 7, 6, 0, 9, 0, 2, 4, 1, 4, 0, 5, 0, 5, 7, 2, 0, 4, 6, 3, 4, 4, 6, 3, 2, 7, 4, 2, 5, 6, 0, 2, 9, 6, 9, 2, 8, 5, 4, 6, 8, 2, 4, 5, 8, 7, 6, 2, 6, 6, 7, 5, 6, 7, 5, 9, 6, 2, 6, 1, 1, 5, 5, 4, 9, 1, 9, 4, 4, 0, 7, 0, 3, 2, 3, 7, 9, 0, 5, 8, 9, 0, 9, 2, 4, 4, 0, 9, 1, 3, 1, 9, 7, 9, 3, 6, 9, 6, 1, 7, 8, 0, 2, 1, 3, 7, 0, 5, 5, 1, 8, 7, 6, 0, 2, 3, 0, 3, 6, 4, 4, 1, 8, 1, 4, 4, 3, 6, 1, 9, 9, 8, 9, 2, 7, 3, 2, 2, 0, 8, 8, 8, 7, 2, 2, 0, 3, 6, 6, 9, 3, 2, 0, 6, 9, 3, 3, 3, 2, 9, 0, 0, 5, 0, 5, 7, 4, 3, 9, 0, 2, 9, 8, 4, 5, 0, 9, 4, 4, 5, 5, 4, 5, 0, 1, 7, 2, 1, 1, 3, 0, 5, 3, 1, 8, 2, 6, 4, 8, 2, 2, 6, 1, 3, 5, 6, 6, 0, 3, 1, 3, 3, 9, 0, 4, 5, 6, 1, 3, 2, 6, 4, 5, 6, 2, 3, 4, 5, 8, 2, 3, 7, 2, 9, 1, 9, 5, 1, 8, 2, 2, 9, 9, 1, 8, 1, 9, 9, 7, 1, 4, 1, 0, 1, 3, 7, 3, 8, 3, 2, 0, 3, 9, 2, 8, 9, 3, 3, 8, 8, 2, 8, 5, 9, 4, 3, 8, 4, 7, 4, 5, 7, 7, 7, 7, 2, 8, 6, 4, 1, 2, 0, 4, 5, 1, 6, 0, 0, 7, 9, 3, 8, 3, 3, 5, 0, 4, 2, 8, 8, 2, 3, 0, 8, 3, 8, 4, 0, 6, 5, 7, 7, 1, 3, 0, 4, 5, 6, 9, 9, 2, 6, 7, 7, 6, 5, 7, 0, 0, 1, 1, 1, 0, 6, 8, 7, 2, 1, 1, 6, 7, 4, 1, 3, 3, 4, 1, 7, 5, 2, 5, 4, 5, 4, 4, 5, 2, 8, 7, 6, 2, 5, 6, 6, 6, 9, 4, 9, 3, 2, 2, 4, 3, 0, 9, 8, 9, 8, 6, 6, 1, 8, 3, 4, 6, 6, 9, 4, 6, 8, 4, 9, 5, 5, 3, 9, 8, 5, 4, 5, 2, 9, 2, 4, 5, 8, 0, 9, 6, 1, 7, 1, 0, 8, 4, 1, 6, 0, 1, 4, 4, 7, 5, 7, 6, 9, 1, 2, 8, 7, 2, 9, 6, 8, 3, 2, 7, 2, 9, 3, 1, 5, 6, 6, 2, 2, 3, 0, 1, 2, 2, 5, 1, 4, 6, 3, 6, 0, 6, 4, 5, 3, 0, 3, 0, 0, 9, 0, 8, 4, 5, 9, 5, 1, 2, 5, 9, 4, 4, 8, 5, 2, 5, 7, 8, 5, 6, 5, 6, 5, 8, 2, 2, 2, 1, 4, 2, 5, 4, 6, 5, 7, 5, 2, 8, 2, 9, 6, 3, 0, 2, 6, 3, 6, 2, 1, 5, 7, 1, 2, 3, 2, 6, 1, 2, 4, 7, 5, 5, 7, 1, 8, 5, 4, 1, 8, 5, 0, 9, 2, 4, 3, 9, 2, 7, 2, 1, 7, 6, 2, 0, 2, 4, 4, 1, 0, 2, 0, 8, 2, 5, 4, 4, 1, 8, 6, 2, 4, 1, 4, 2, 9, 5, 1, 0, 7, 7, 9, 5, 8, 8, 9, 7, 2, 4, 7, 9, 8, 6, 6, 0, 2, 7, 0, 9, 0, 7, 4, 0, 5, 6, 5, 0, 5, 7, 1, 2, 8, 3, 1, 7, 9, 6, 9, 6, 9, 2, 5, 5, 5, 7, 3, 9, 5, 1, 8, 1, 4, 8, 8, 4, 8, 9, 2, 8, 9, 8, 1, 2, 3, 3, 5, 2, 9, 4, 1, 1, 6, 3, 0, 1, 0, 6, 2, 8, 2, 4, 6, 1, 4, 7, 1, 5, 8, 4, 5, 0, 8, 1, 6, 6, 4, 0, 0, 1, 4, 6, 1, 2, 5, 0, 7, 7, 3, 2, 3, 7, 3, 2, 3, 1, 7, 1, 9, 8, 9, 0, 0, 3, 1, 1, 6, 6, 6, 3, 1, 4, 6, 7, 0, 1, 2, 3, 0, 2, 8, 0, 9, 6, 9, 4, 0, 1, 1, 8, 4, 0, 5, 2, 7, 6, 5, 5, 9, 0, 2, 2, 2, 5, 8, 4, 9, 9, 8, 5, 9, 2, 4, 8, 7, 2, 1, 4, 6, 6, 5, 2, 0, 9, 8, 5, 0, 6, 6, 7, 2, 9, 6, 3, 6, 9, 8, 5, 7, 9, 8, 8, 1, 4, 7, 9, 8, 6, 5, 4, 8, 4, 4, 2, 4, 3, 9, 7, 8, 9, 6, 0, 6, 8, 9, 2, 9, 2, 7, 3, 6, 9, 0, 1, 1, 9, 8, 3, 7, 7, 3, 5, 8, 2, 3, 5, 2, 5, 2, 4, 8, 3, 3, 6, 2, 3, 2, 5, 4, 2, 7, 7, 6, 6, 7, 0, 0, 9, 1, 9, 2, 6, 4, 5, 9, 5, 4, 4, 3, 6, 7, 4, 0, 9, 4, 1, 7, 8, 0, 3, 9, 2, 3, 4, 7, 4, 4, 7, 5, 5, 2, 9, 7, 5, 3, 6, 8, 0, 3, 2, 9, 5, 2, 0, 8, 7, 4, 2, 7, 1, 5, 7, 1, 0, 3, 5, 6, 4, 2, 5, 3, 2, 7, 3, 6, 3, 5, 2, 8, 2, 7, 8, 1, 9, 8, 0, 8, 2, 2, 2, 3, 7, 2, 5, 9, 0, 8, 8, 9, 0, 5, 9, 2, 4, 7, 1, 4, 4, 3, 3, 5, 1, 7, 3, 6, 6, 6, 4, 8, 0, 1, 2, 7, 0, 5, 5, 7, 7, 6, 1, 9, 5, 1, 0, 2, 1, 2, 1, 1, 5, 4, 5, 5, 4, 8, 0, 2, 4, 8, 4, 5, 1, 5, 6, 0, 4, 6, 3, 4, 7, 7, 1, 6, 4, 7, 4, 2, 6, 8, 4, 5, 6, 7, 7, 7, 2, 6, 6, 9, 1, 2, 0, 0, 8, 5, 2, 9, 9, 6, 4, 4, 3, 1, 0, 2, 0, 6, 0, 3, 4, 0, 5, 4, 2, 8, 2, 0, 0, 9, 3, 7, 0, 1, 4, 2, 2, 1, 4, 9, 0, 8, 2, 0, 4, 2, 9, 4, 2, 3, 5, 3, 3, 9, 2, 5, 4, 2, 7, 9, 3, 6, 8, 3, 7, 7, 3, 6, 7, 5, 4, 0, 6, 3, 5, 2, 4, 5, 9, 4, 4, 1, 0, 0, 5, 1, 7, 4, 7, 7, 3, 0, 2, 0, 3, 3, 3, 2, 5, 9, 0, 5, 3, 9, 6, 8, 6, 8, 8, 0, 7, 4, 5, 7, 5, 3, 1, 4, 4, 7, 4, 6, 7, 2, 9, 2, 4, 7, 0, 8, 9, 3, 4, 9, 1, 0, 8, 9, 5, 3, 3, 7, 4, 6, 2, 9, 6, 3, 0, 5, 1, 0, 9, 0, 9, 6, 5, 1, 7, 2, 1, 2, 8, 3, 4, 5, 4, 0, 8, 7, 4, 5, 4, 0, 2, 5, 7, 2, 8, 2, 5, 5, 5, 1, 2, 7, 9, 8, 7, 2, 2, 4, 5, 7, 5, 2, 4, 4, 9, 2, 1, 0, 7, 8, 9, 1, 3, 2, 4, 8, 4, 6, 0, 5, 8, 7, 9, 7, 3, 8, 3, 2, 6, 7, 4, 1, 0, 5, 6, 1, 8, 7, 4, 4, 2, 3, 5, 0, 8, 5, 6, 4, 3, 5, 0, 6, 3, 9, 8, 9, 8, 7, 0, 7, 7, 2, 1, 2, 4, 7, 5, 8, 1, 9, 9, 4, 2, 3, 8, 4, 5, 2, 4, 0, 4, 4, 5, 0, 7, 5, 1, 4, 3, 9, 7, 3, 1, 5, 1, 0, 5, 3, 2, 6, 4, 1, 2, 2, 2, 4, 4, 9, 5, 2, 7, 6, 5, 4, 1, 9, 3, 2, 4, 6, 9, 7, 8, 8, 8, 4, 0, 8, 5, 3, 4, 2, 0, 8, 7, 9, 3, 5, 3, 2, 5, 2, 2, 4, 9, 4, 3, 5, 2, 2, 8, 5, 6, 3, 2, 3, 8, 2, 1, 1, 5, 2, 4, 4, 0, 6, 3, 6, 6, 2, 5, 5, 7, 0, 0, 5, 4, 7, 7, 5, 1, 8, 3, 1, 4, 5, 7, 7, 2, 3, 1, 0, 1, 0, 5, 4, 6, 4, 8, 4, 1, 1, 4, 0, 9, 8, 3, 7, 4, 4, 2, 8, 9, 5, 0, 0, 6, 3, 2, 2, 3, 0, 0, 2, 4, 5, 0, 1, 3, 4, 2, 6, 0, 1, 2, 8, 0, 2, 8, 6, 7, 5, 7, 7, 6, 7, 2, 8, 9, 1, 5, 2, 6, 5, 1, 9, 1, 6, 5, 4, 4, 2, 1, 2, 7, 6, 6, 1, 2, 4, 6, 9, 4, 6, 2, 3, 1, 9, 2, 2, 8, 4, 3, 4, 6, 3, 5, 2, 0, 8, 4, 6, 8, 3, 7, 5, 4, 5, 4, 5, 2, 1, 0, 5, 4, 5, 9, 4, 3, 7, 0, 6, 0, 1, 3, 9, 6, 5, 1, 7, 4, 7, 7, 8, 4, 1, 5, 8, 0, 8, 1, 0, 8, 3, 8, 3, 1, 4, 9, 6, 7, 5, 7, 7, 4, 7, 2, 7, 2, 2, 2, 7, 7, 7, 0, 0, 7, 9, 8, 4, 7, 6, 6, 8, 0, 7, 8, 0, 6, 3, 9, 6, 7, 4, 9, 4, 5, 2, 5, 0, 6, 9, 8, 2, 7, 7, 4, 9, 3, 3, 7, 0, 7, 3, 5, 5, 8, 1, 1, 2, 1, 8, 4, 2, 1, 3, 8, 7, 1, 7, 1, 5, 4, 9, 6, 9, 1, 8, 2, 7, 3, 5, 9, 3, 2, 5, 1, 7, 2, 8, 8, 9, 0, 3, 1, 5, 0, 0, 1, 0, 0, 0, 3, 1, 8, 1, 4, 7, 3, 0, 2, 6, 9, 9, 7, 4, 1, 4, 2, 5, 1, 2, 2, 4, 4, 5, 4, 4, 4, 8, 3, 7, 1, 7, 8, 3, 7, 0, 6, 5, 7, 4, 8, 9, 5, 5, 6, 2, 7, 0, 7, 2, 3, 2, 2, 6, 7, 1, 0, 6, 1, 2, 0, 3, 6, 2, 3, 8, 1, 2, 5, 5, 2, 2, 0, 1, 3, 3, 3, 1, 5, 4, 6, 8, 3, 9, 1, 0, 8, 0, 4, 5, 1, 7, 0, 3, 3, 7, 6, 2, 0, 4, 1, 0, 7, 9, 3, 1, 0, 1, 9, 7, 7, 9, 0, 5, 7, 4, 8, 7, 4, 8, 8, 0, 0, 9, 7, 2, 2, 5, 1, 5, 5, 4, 0, 0, 7, 4, 7, 1, 6, 4, 8, 2, 6, 4, 7, 1, 2, 1, 5, 6, 3, 5, 4, 5, 6, 3, 5, 1, 0, 2, 3, 8, 1, 5, 0, 7, 6, 2, 3, 6, 5, 1, 0, 8, 4, 7, 1, 0, 2, 8, 6, 5, 7, 3, 9, 9, 7, 3, 3, 2, 3, 4, 8, 5, 6, 5, 4, 2, 9, 7, 4, 7, 6, 2, 4, 7, 4, 0, 9, 4, 4, 6, 1, 6, 0, 9, 3, 5, 3, 1, 3, 0, 7, 6, 6, 1, 8, 6, 5, 3, 9, 4, 1, 9, 7, 1, 3, 8, 2, 3, 6, 7, 5, 8, 7, 3, 2, 1, 2, 6, 1, 1, 6, 6, 2, 5, 0, 7, 2, 1, 8, 8, 6, 5, 6, 6, 6, 2, 8, 9, 7, 5, 0, 9, 1, 5, 8, 8, 7, 7, 5, 8, 0, 0, 2, 3, 6, 7, 6, 3, 8, 1, 4, 6, 2, 1, 8, 4, 4, 7, 4, 3, 4, 6, 9, 5, 1, 2, 0, 0, 0, 4, 8, 3, 6, 5, 9, 7, 6, 7, 2, 7, 4, 7, 9, 6, 3, 2, 6, 1, 2, 2, 9, 3, 8, 0, 5, 2, 5, 2, 6, 5, 0, 5, 4, 1, 3, 8, 7, 9, 1, 2, 9, 9, 5, 9, 3, 4, 9, 7, 9, 9, 6, 2, 9, 0, 6, 1, 5, 9, 0, 4, 7, 2, 7, 0, 3, 2, 1, 2, 3, 3, 4, 7, 1, 0, 3, 2, 5, 3, 1, 0, 1, 2, 9, 2, 4, 8, 5, 1, 1, 3, 9, 2, 2, 9, 4, 3, 2, 8, 3, 0, 0, 5, 1, 2, 0, 4, 2, 7, 3, 9, 3, 1, 4, 2, 9, 3, 8, 6, 5, 6, 9, 9, 5, 0, 5, 0, 4, 5, 8, 9, 8, 3, 7, 5, 2, 8, 2, 5, 6, 1, 4, 7, 5, 8, 5, 1, 6, 4, 1, 0, 8, 2, 0, 0, 1, 4, 8, 4, 3, 2, 2, 3, 3, 7, 3, 6, 8, 8, 7, 0, 9, 0, 1, 5, 2, 9, 1, 2, 6, 0, 9, 4, 7, 9, 6, 7, 4, 0, 6, 3, 8, 6, 4, 2, 7, 4, 6, 4, 4, 9, 7, 7, 9, 1, 6, 8, 3, 7, 1, 2, 8, 8, 0, 2, 6, 0, 4, 9, 1, 5, 2, 8, 6, 1, 8, 2, 3, 2, 7, 4, 6, 1, 0, 2, 9, 5, 3, 1, 4, 3, 6, 2, 8, 3, 4, 9, 7, 8, 4, 5, 3, 0, 9, 6, 2, 2, 4, 1, 1, 9, 9, 7, 8, 9, 4, 3, 1, 5, 8, 5, 4, 0, 0, 6, 7, 2, 4, 3, 0, 6, 9, 1, 5, 7, 4, 5, 5, 4, 1, 6, 7, 0, 5, 9, 2, 5, 1, 3, 1, 5, 5, 5, 7, 9, 0, 3, 6, 0, 1, 7, 8, 0, 2, 5, 5, 0, 9, 7, 3, 7, 5, 9, 0, 8, 8, 1, 6, 2, 1, 1, 0, 3, 3, 5, 5, 0, 2, 3, 2, 8, 1, 9, 4, 7, 6, 6, 2, 4, 7, 0, 7, 6, 9, 7, 8, 2, 5, 1, 0, 6, 8, 4, 7, 2, 5, 6, 0, 7, 2, 1, 1, 4, 6, 5, 8, 7, 1, 3, 7, 1, 7, 7, 7, 9, 2, 5, 5, 3, 5, 7, 3, 5, 3, 8, 2, 0, 7, 8, 9, 3, 5, 7, 8, 7, 5, 6, 3, 3, 0, 8, 5, 5, 0, 8, 8, 0, 6, 6, 4, 3, 2, 9, 2, 1, 1, 3, 3, 5, 9, 9, 9, 6, 2, 1, 8, 5, 0, 3, 4, 5, 5, 0, 5, 8, 7, 7, 4, 8, 2, 9, 2, 5, 9, 9, 1, 7, 4, 8, 0, 7, 4, 0, 0, 2, 5, 3, 8, 3, 5, 6, 7, 4, 9, 4, 3, 3, 7, 1, 1, 5, 9, 9, 3, 8, 9, 5, 9, 6, 4, 5, 3, 1, 8, 3, 4, 6, 4, 0, 4, 7, 3, 2, 9, 0, 4, 1, 6, 2, 4, 5, 1, 3, 9, 0, 7, 5, 3, 1, 6, 9, 6, 9, 0, 7, 4, 9, 4, 8, 4, 8, 1, 5, 0, 9, 1, 2, 2, 4, 0, 2, 3, 4, 0, 7, 0, 1, 6, 6, 9, 0, 4, 4, 4, 8, 7, 2, 5, 3, 8, 3, 8, 2, 6, 3, 1, 6, 5, 5, 6, 9, 1, 7, 0, 5, 2, 2, 1, 2, 8, 2, 1, 0, 3, 2, 3, 0, 4, 5, 3, 1, 2, 9, 3, 5, 4, 7, 5, 6, 6, 7, 7, 0, 4, 9, 3, 6, 3, 4, 5, 0, 6, 5, 5, 7, 7, 5, 6, 8, 0, 7, 5, 3, 2, 6, 4, 0, 8, 2, 5, 9, 2, 4, 4, 2, 2, 2, 5, 5, 5, 4, 9, 7, 3, 1, 5, 5, 2, 2, 3, 1, 9, 2, 9, 3, 4, 8, 4, 3, 4, 5, 9, 8, 2, 1, 4, 6, 7, 1, 1, 3, 2, 0, 5, 8, 3, 1, 1, 5, 4, 5, 4, 8, 4, 3, 3, 6, 0, 7, 1, 4, 8, 2, 6, 2, 0, 4, 8, 5, 3, 1, 0, 3, 2, 7, 2, 1, 1, 3, 8, 9, 5, 2, 6, 1, 7, 2, 0, 4, 8, 7, 6, 4, 5, 6, 1, 4, 7, 3, 1, 4, 4, 3, 1, 1, 4, 0, 7, 2, 9, 8, 5, 4, 8, 2, 2, 2, 7, 8, 4, 7, 8, 5, 4, 2, 8, 4, 1, 6, 7, 8, 6, 2, 7, 8, 0, 7, 7, 5, 4, 8, 0, 1, 3, 9, 2, 5, 9, 3, 4, 5, 1, 1, 5, 9, 5, 2, 8, 7, 5, 0, 6, 0, 9, 6, 3, 8, 0, 9, 2, 9, 2, 3, 7, 8, 5, 8, 4, 9, 0, 9, 4, 4, 1, 5, 1, 1, 9, 0, 4, 2, 9, 6, 5, 8, 8, 6, 9, 6, 9, 1, 9, 8, 0, 0, 9, 5, 2, 6, 2, 0, 1, 2, 3, 4, 8, 1, 3, 4, 5, 6, 5, 7, 2, 4, 4, 8, 4, 3, 7, 3, 2, 9, 0, 9, 7, 7, 6, 2, 7, 2, 5, 3, 8, 4, 3, 2, 0, 6, 4, 2, 7, 4, 1, 7, 3, 8, 1, 2, 0, 8, 0, 2, 3, 2, 4, 7, 7, 6, 6, 8, 0, 2, 0, 3, 7, 0, 8, 3, 2, 0, 2, 6, 6, 8, 1, 7, 3, 5, 1, 0, 6, 6, 4, 4, 0, 0, 2, 6, 9, 6, 4, 1, 0, 1, 5, 7, 1, 8, 4, 6, 7, 8, 1, 3, 6, 4, 4, 5, 3, 5, 5, 8, 9, 6, 3, 3, 0, 6, 5, 2, 9, 3, 4, 4, 2, 3, 2, 0, 1, 7, 9, 7, 0, 3, 5, 1, 1, 6, 8, 5, 0, 7, 9, 8, 0, 9, 0, 7, 7, 9, 1, 0, 5, 0, 8, 7, 4, 7, 4, 0, 3, 0, 8, 4, 5, 2, 9, 1, 1, 4, 6, 6, 1, 1, 2, 5, 9, 4, 2, 8, 8, 4, 4, 5, 7, 2, 6, 3, 5, 1, 5, 3, 4, 3, 6, 4, 6, 4, 9, 2, 1, 4, 2, 8, 5, 6, 5, 6, 6, 7, 8, 0, 6, 4, 0, 0, 8, 0, 6, 5, 9, 4, 4, 7, 3, 9, 6, 4, 6, 6, 6, 7, 4, 8, 2, 2, 3, 1, 5, 5, 2, 3, 4, 5, 2, 3, 3, 5, 1, 0, 5, 4, 5, 3, 2, 3, 4, 3, 6, 1, 4, 5, 1, 2, 0, 2, 4, 1, 3, 6, 1, 7, 7, 4, 9, 0, 1, 8, 2, 7, 3, 5, 6, 9, 4, 0, 2, 1, 6, 4, 0, 7, 4, 9, 7, 3, 4, 1, 9, 1, 0, 8, 5, 1, 7, 2, 0, 3, 0, 0, 0, 9, 9, 7, 1, 1, 4, 6, 5, 5, 2, 0, 3, 3, 6, 1, 1, 1, 2, 2, 9, 7, 3, 6, 6, 4, 7, 8, 9, 2, 5, 4, 5, 2, 6, 6, 7, 7, 9, 7, 7, 4, 9, 7, 5, 1, 6, 9, 1, 3, 0, 0, 7, 5, 6, 4, 7, 3, 9, 0, 1, 2, 1, 3, 0, 2, 9, 1, 9, 0, 0, 9, 7, 7, 3, 2, 5, 3, 8, 1, 3, 6, 8, 2, 8, 4, 6, 1, 9, 9, 2, 5, 4, 0, 7, 7, 5, 2, 4, 5, 0, 5, 9, 8, 6, 5, 2, 9, 0, 2, 4, 5, 9, 0, 2, 6, 2, 8, 1, 2, 5, 5, 4, 5, 5, 6, 3, 0, 2, 8, 2, 3, 2, 0, 4, 8, 7, 4, 3, 4, 0, 3, 7, 7, 4, 2, 0, 9, 1, 9, 0, 7, 0, 6, 5, 9, 5, 9, 1, 3, 5, 7, 9, 7, 6, 0, 2, 4, 3, 3, 9, 4, 4, 0, 9, 5, 3, 3, 7, 7, 0, 4, 2, 7, 6, 2, 3, 9, 2, 0, 4, 5, 8, 3, 0, 2, 4, 7, 3, 9, 0, 7, 7, 3, 2, 2, 3, 6, 1, 6, 9, 1, 3, 2, 4, 9, 9, 5, 2, 2, 3, 2, 8, 5, 6, 8, 2, 4, 8, 0, 8, 5, 6, 6, 9, 6, 9, 2, 7, 1, 6, 3, 9, 2, 8, 4, 1, 9, 3, 2, 8, 1, 9, 3, 9, 4, 0, 1, 1, 9, 4, 3, 7, 7, 2, 6, 5, 2, 5, 4, 4, 5, 1, 3, 2, 5, 5, 6, 0, 5, 6, 7, 5, 2, 5, 2, 9, 7, 1, 5, 6, 3, 7, 4, 9, 4, 1, 0, 0, 8, 5, 7, 0, 9, 0, 4, 6, 0, 2, 1, 2, 7, 0, 2, 5, 1, 4, 1, 4, 0, 3, 7, 3, 7, 2, 6, 6, 6, 2, 5, 6, 8, 4, 3, 5, 4, 4, 6, 2, 5, 3, 8, 9, 2, 6, 7, 9, 5, 2, 3, 7, 6, 9, 4, 0, 2, 5, 9, 2, 3, 3, 2, 8, 0, 4, 0, 3, 3, 7, 2, 3, 1, 0, 2, 2, 7, 9, 5, 6, 6, 7, 3, 2, 1, 6, 1, 0, 0, 8, 8, 7, 6, 2, 9, 3, 2, 0, 4, 0, 6, 1, 3, 5, 6, 8, 7, 6, 5, 5, 2, 6, 8, 0, 1, 7, 5, 2, 2, 6, 5, 5, 7, 2, 7, 8, 8, 8, 3, 0, 6, 0, 5, 8, 6, 5, 3, 3, 1, 2, 5, 5, 0, 0, 1, 8, 5, 0, 3, 3, 2, 3, 3, 4, 9, 7, 5, 5, 5, 4, 6, 1, 9, 1, 0, 2, 9, 3, 5, 6, 5, 4, 7, 4, 4, 9, 7, 5, 2, 9, 5, 0, 8, 2, 3, 4, 8, 9, 2, 4, 1, 6, 1, 6, 2, 2, 7, 9, 1, 6, 6, 2, 8, 5, 6, 1, 2, 4, 7, 7, 7, 5, 4, 8, 7, 0, 5, 6, 7, 4, 4, 1, 1, 5, 4, 8, 1, 0, 4, 3, 4, 7, 6, 0, 6, 2, 1, 8, 2, 2, 0, 8, 4, 4, 2, 5, 5, 8, 7, 7, 2, 6, 6, 8, 5, 1, 3, 7, 2, 6, 4, 1, 8, 8, 9, 6, 4, 7, 4, 0, 5, 4, 0, 3, 7, 4, 3, 7, 9, 4, 8, 4, 8, 7, 2, 2, 8, 7, 4, 1, 0, 1, 7, 5, 4, 8, 2, 5, 2, 4, 6, 9, 2, 8, 6, 1, 0, 7, 8, 0, 3, 6, 1, 0, 8, 0, 8, 7, 2, 0, 3, 9, 7, 7, 5, 4, 0, 8, 5, 6, 4, 9, 3, 8, 3, 8, 9, 8, 5, 6, 5, 9, 3, 1, 3, 3, 5, 6, 7, 4, 4, 0, 2, 7, 5, 4, 0, 8, 5, 5, 1, 3, 6, 3, 5, 2, 6, 0, 0, 4, 3, 8, 3, 7, 1, 0, 3, 2, 5, 3, 5, 5, 1, 3, 2, 0, 5, 3, 7, 7, 0, 6, 9, 6, 6, 4, 1, 8, 3, 7, 5, 3, 8, 3, 4, 3, 6, 5, 5, 8, 2, 5, 8, 6, 1, 7, 5, 5, 4, 0, 8, 6, 7, 7, 6, 5, 3, 4, 5, 9, 8, 0, 8, 1, 7, 4, 8, 9, 9, 7, 6, 9, 9, 7, 1, 5, 7, 8, 0, 7, 9, 3, 7, 3, 9, 3, 9, 6, 9, 1, 2, 7, 5, 3, 9, 9, 9, 3, 1, 9, 0, 2, 5, 4, 5, 8, 6, 2, 7, 2, 8, 0, 6, 3, 5, 5, 8, 7, 8, 1, 8, 3, 9, 7, 3, 4, 2, 9, 8, 8, 1, 6, 6, 3, 7, 3, 3, 4, 5, 1, 1, 9, 3, 4, 3, 0, 5, 2, 6, 2, 2, 9, 0, 5, 7, 7, 5, 9, 3, 7, 3, 9, 9, 8, 9, 0, 7, 0, 2, 2, 6, 9, 8, 9, 1, 6, 8, 2, 5, 2, 0, 1, 9, 4, 7, 1, 5, 9, 8, 1, 7, 9, 4, 6, 1, 5, 1, 8, 2, 2, 6, 6, 3, 3, 5, 1, 8, 0, 2, 2, 8, 6, 1, 6, 4, 3, 8, 2, 4, 8, 0, 4, 3, 7, 1, 4, 4, 6, 7, 4, 4, 9, 9, 5, 7, 2, 1, 2, 1, 9, 0, 5, 9, 8, 8, 4, 0, 0, 5, 4, 7, 7, 6, 4, 7, 5, 5, 5, 8, 9, 5, 9, 6, 0, 8, 3, 8, 6, 1, 2, 2, 4, 5, 3, 2, 2, 9, 0, 7, 0, 7, 5, 3, 7, 2, 5, 8, 8, 0, 3, 3, 1, 6, 4, 0, 8, 4, 6, 5, 8, 3, 3, 6, 8, 6, 4, 7, 7, 2, 1, 6, 1, 2, 0, 0, 1, 4, 6, 9, 5, 0, 7, 7, 9, 3, 5, 1, 0, 8, 7, 0, 5, 5, 7, 8, 9, 6, 7, 4, 8, 6, 3, 0, 3, 5, 9, 4, 1, 3, 2, 2, 5, 7, 5, 0, 6, 4, 8, 2, 7, 4, 1, 9, 0, 8, 7, 9, 7, 8, 4, 2, 1, 7, 0, 7, 4, 5, 6, 1, 1, 7, 7, 1, 9, 9, 6, 5, 6, 6, 4, 8, 2, 9, 9, 1, 6, 3, 6, 5, 9, 3, 8, 9, 2, 2, 9, 3, 1, 6, 7, 6, 4, 3, 5, 0, 5, 7, 8, 4, 9, 3, 1, 6, 6, 3, 4, 4, 5, 8, 0, 2, 4, 4, 6, 0, 5, 5, 5, 5, 4, 2, 9, 3, 8, 9, 0, 4, 2, 7, 2, 7, 8, 4, 1, 1, 4, 4, 0, 1, 6, 0, 4, 7, 5, 3, 4, 3, 9, 6, 9, 4, 7, 3, 6, 2, 7, 0, 6, 9, 7, 9, 6, 8, 5, 0, 7, 4, 4, 2, 0, 0, 0, 6, 3, 8, 2, 3, 1, 3, 5, 6, 2, 8, 2, 8, 0, 2, 9, 6, 9, 6, 5, 0, 3, 9, 4, 6, 5, 7, 6, 2, 3, 0, 0, 9, 8, 7, 3, 7, 7, 2, 4, 2, 2, 2, 5, 4, 1, 5, 3, 1, 4, 1, 8, 6, 0, 5, 3, 6, 8, 1, 8, 6, 5, 0, 8, 7, 9, 3, 4, 9, 5, 6, 0, 2, 1, 6, 7, 2, 3, 0, 7, 6, 5, 0, 2, 1, 8, 6, 2, 0, 3, 0, 2, 4, 4, 3, 2, 2, 6, 7, 9, 6, 5, 7, 3, 5, 8, 4, 8, 0, 0, 3, 7, 8, 7, 2, 5, 4, 2, 1, 5, 3, 1, 3, 4, 5, 0, 1, 1, 2, 4, 6, 1, 1, 3, 0, 5, 5, 0, 3, 9, 3, 5, 8, 6, 8, 1, 8, 7, 0, 4, 1, 5, 9, 9, 1, 8, 5, 3, 1, 6, 8, 3, 3, 9, 1, 0, 3, 0, 8, 2, 1, 8, 5, 1, 8, 4, 0, 4, 4, 2, 3, 8, 1, 6, 3, 3, 9, 9, 8, 4, 2, 7, 2, 0, 3, 3, 2, 1, 0, 6, 8, 1, 5, 4, 1, 5, 5, 0, 1, 4, 3, 9, 5, 0, 9, 6, 9, 5, 6, 0, 2, 3, 4, 3, 5, 4, 4, 3, 9, 0, 2, 9, 5, 3, 1, 1, 3, 1, 7, 5, 3, 3, 7, 1, 4, 1, 5, 8, 0, 2, 9, 4, 1, 7, 3, 3, 9, 6, 0, 7, 8, 7, 0, 4, 1, 5, 5, 4, 0, 9, 3, 6, 5, 0, 0, 4, 2, 3, 9, 1, 4, 5, 7, 5, 7, 0, 1, 7, 9, 5, 3, 7, 6, 0, 5, 4, 1, 0, 6, 3, 8, 0, 9, 0, 2, 7, 4, 0, 4, 5, 2, 0, 8, 7, 5, 1, 0, 6, 7, 2, 1, 0, 4, 6, 4, 8, 1, 2, 4, 6, 4, 1, 3, 0, 3, 8, 8, 6, 4, 1, 4, 8, 1, 5, 6, 0, 6, 5, 9, 1, 0, 2, 6, 4, 4, 0, 1, 7, 9, 3, 7, 7, 7, 1, 5, 9, 9, 5, 9, 9, 0, 4, 9, 5, 8, 4, 3, 1, 6, 4, 9, 8, 5, 3, 5, 8, 0, 7, 1, 0, 8, 5, 6, 3, 6, 1, 3, 4, 3, 2, 9, 6, 7, 8, 5, 8, 7, 2, 5, 1, 1, 0, 1, 9, 4, 0, 3, 3, 9, 0, 5, 3, 6, 1, 5, 3, 2, 9, 3, 4, 9, 2, 5, 8, 0, 2, 4, 2, 6, 5, 1, 5, 7, 5, 0, 1, 4, 7, 5, 0, 0, 6, 7, 1, 6, 4, 4, 8, 6, 2, 4, 2, 7, 7, 5, 4, 5, 7, 4, 3, 5, 7, 3, 3, 5, 1, 8, 6, 1, 5, 2, 6, 1, 5, 0, 7, 4, 4, 4, 0, 7, 2, 0, 6, 2, 1, 1, 3, 3, 6, 0, 8, 8, 0, 9, 9, 3, 5, 1, 6, 6, 1, 2, 9, 2, 5, 3, 3, 1, 3, 6, 0, 2, 3, 2, 1, 2, 4, 1, 7, 9, 2, 2, 4, 3, 2, 2, 9, 4, 1, 8, 5, 8, 6, 0, 9, 6, 0, 6, 7, 0, 2, 4, 3, 6, 3, 6, 2, 9, 2, 4, 3, 4, 8, 5, 0, 2, 3, 2, 0, 3, 5, 7, 4, 5, 4, 7, 9, 9, 2, 4, 9, 7, 3, 7, 7, 0, 6, 1, 1, 7, 8, 5, 0, 1, 6, 2, 6, 7, 5, 8, 7, 4, 7, 5, 2, 3, 6, 1, 1, 9, 8, 1, 3, 7, 4, 3, 8, 1, 8, 2, 6, 1, 8, 9, 4, 6, 5, 4, 4, 5, 0, 9, 4, 8, 2, 6, 1, 9, 0, 8, 4, 7, 7, 7, 9, 0, 7, 3, 5, 6, 0, 3, 2, 1, 9, 1, 8, 3, 3, 8, 9, 3, 5, 2, 7, 2, 2, 3, 9, 8, 7, 4, 2, 4, 5, 0, 0, 2, 3, 4, 3, 5, 1, 0, 7, 0, 4, 3, 4, 9, 6, 5, 6, 6, 5, 4, 8, 3, 2, 0, 7, 2, 2, 4, 1, 4, 3, 0, 3, 0, 7, 4, 1, 1, 4, 5, 0, 3, 3, 1, 1, 6, 3, 4, 6, 5, 1, 9, 0, 4, 2, 5, 1, 4, 0, 7, 9, 1, 6, 1, 2, 8, 5, 5, 6, 8, 1, 8, 8, 0, 7, 9, 1, 9, 5, 6, 3, 4, 0, 3, 9, 1, 0, 4, 9, 4, 1, 8, 5, 4, 1, 5, 0, 2, 5, 1, 6, 6, 4, 0, 3, 3, 2, 4, 3, 9, 9, 8, 3, 7, 5, 5, 6, 3, 7, 0, 0, 8, 7, 8, 7, 9, 7, 1, 1, 6, 4, 4, 4, 7, 1, 4, 9, 4, 9, 2, 5, 4, 0, 9, 1, 7, 5, 5, 1, 7, 3, 5, 5, 5, 5, 2, 8, 7, 4, 9, 6, 7, 5, 3, 2, 7, 0, 8, 2, 0, 9, 7, 7, 3, 8, 2, 5, 6, 8, 2, 6, 8, 4, 5, 9, 5, 0, 1, 1, 4, 4, 9, 5, 8, 8, 9, 8, 6, 8, 5, 1, 8, 7, 3, 2, 2, 2, 6, 4, 3, 2, 2, 2, 7, 4, 2, 0, 2, 1, 3, 2, 9, 0, 3, 2, 9, 2, 8, 0, 1, 1, 1, 0, 8, 9, 8, 0, 2, 7, 6, 9, 8, 8, 2, 3, 6, 9, 4, 3, 7, 2, 8, 5, 2, 4, 7, 5, 3, 2, 3, 4, 2, 8, 0, 6, 2, 9, 3, 8, 3, 5, 6, 4, 4, 4, 4, 4, 9, 9, 2, 0, 0, 7, 2, 9, 3, 1, 6, 4, 6, 5, 7, 5, 9, 8, 9, 4, 2, 8, 1, 3, 7, 3, 5, 8, 8, 2, 1, 0, 0, 9, 6, 6, 3, 6, 3, 5, 3, 0, 1, 3, 0, 8, 4, 5, 8, 5, 0, 3, 2, 2, 4, 0, 0, 9, 8, 3, 9, 8, 1, 1, 3, 0, 0, 2, 9, 5, 3, 1, 3, 3, 4, 3, 7, 5, 6, 0, 3, 8, 9, 2, 3, 3, 2, 5, 8, 7, 7, 3, 2, 5, 9, 5, 5, 3, 4, 7, 2, 0, 1, 4, 1, 8, 7, 3, 6, 7, 1, 7, 1, 5, 3, 1, 2, 3, 3, 6, 7, 4, 9, 3, 4, 9, 0, 9, 7, 3, 3, 0, 3, 8, 6, 8, 3, 5, 6, 2, 1, 0, 5, 0, 3, 3, 1, 6, 6, 3, 5, 0, 6, 6, 0, 1, 7, 2, 8, 9, 9, 8, 3, 9, 1, 0, 2, 4, 2, 8, 3, 7, 4, 2, 3, 0, 6, 4, 2, 3, 5, 3, 0, 6, 2, 3, 5, 4, 4, 8, 7, 2, 4, 1, 5, 9, 1, 5, 0, 1, 2, 5, 2, 7, 6, 4, 0, 9, 3, 0, 8, 1, 0, 3, 6, 1, 7, 8, 1, 2, 4, 9, 3, 0, 4, 9, 2, 6, 5, 9, 2, 2, 9, 1, 7, 0, 1, 5, 3, 6, 0, 1, 5, 7, 4, 6, 8, 9, 5, 9, 1, 7, 4, 7, 6, 8, 4, 0, 8, 4, 9, 5, 1, 1, 8, 1, 1, 1, 4, 4, 7, 9, 0, 4, 5, 5, 2, 0, 9, 9, 2, 9, 6, 1, 1, 8, 5, 9, 9, 1, 4, 7, 9, 8, 6, 7, 0, 3, 3, 7, 7, 5, 4, 5, 0, 6, 2, 0, 3, 8, 3, 3, 8, 2, 0, 0, 5, 5, 5, 5, 2, 0, 4, 5, 8, 5, 6, 2, 8, 6, 2, 9, 1, 2, 7, 9, 1, 0, 7, 5, 1, 0, 4, 6, 1, 3, 0, 5, 6, 3, 9, 4, 9, 8, 9, 0, 5, 7, 2, 3, 5, 2, 4, 8, 4, 7, 5, 3, 8, 4, 3, 9, 3, 6, 3, 7, 2, 0, 2, 4, 1, 0, 7, 0, 5, 5, 5, 5, 3, 3, 5, 1, 7, 0, 5, 0, 4, 8, 8, 7, 2, 3, 0, 9, 6, 1, 2, 5, 3, 8, 9, 7, 3, 3, 9, 4, 6, 6, 5, 2, 5, 6, 2, 1, 9, 4, 8, 9, 6, 3, 0, 3, 3, 9, 0, 4, 4, 4, 5, 0, 1, 4, 3, 2, 6, 4, 6, 7, 8, 5, 8, 1, 7, 0, 9, 0, 2, 2, 4, 0, 8, 4, 3, 0, 0, 1, 5, 1, 1, 8, 3, 2, 4, 1, 2, 4, 1, 1, 5, 5, 5, 4, 9, 2, 0, 6, 9, 6, 1, 2, 2, 6, 1, 1, 5, 1, 3, 0, 2, 4, 8, 2, 3, 1, 1, 0, 7, 6, 9, 3, 2, 6, 3, 8, 5, 2, 9, 0, 8, 3, 1, 9, 1, 7, 9, 2]\n"
     ]
    }
   ],
   "source": [
    "# Getting the exact predicted test values of the dataset\n",
    "y_predict_exact=[np.argmax(i) for i in y_predict]\n",
    "print(y_predict_exact)"
   ]
  },
  {
   "cell_type": "code",
   "execution_count": 30,
   "id": "e9f4480e",
   "metadata": {
    "scrolled": true
   },
   "outputs": [
    {
     "name": "stdout",
     "output_type": "stream",
     "text": [
      "1875/1875 [==============================] - 3s 1ms/step - loss: 0.6244 - accuracy: 0.8031\n",
      "Validation Score: [0.6243917942047119, 0.8030999898910522]\n",
      "1313/1313 [==============================] - 2s 2ms/step - loss: 0.6250 - accuracy: 0.8029\n",
      "Training Score: [0.6250200867652893, 0.8029047846794128]\n",
      "563/563 [==============================] - 1s 2ms/step - loss: 0.6229 - accuracy: 0.8036\n",
      "Testing Score: [0.6229245066642761, 0.8035555481910706]\n"
     ]
    }
   ],
   "source": [
    "# Checking for model accuracy\n",
    "mv=model.evaluate(X_val,y_val)\n",
    "print('Validation Score:',mv)\n",
    "mtr=model.evaluate(X_train,y_train)\n",
    "print('Training Score:',mtr)\n",
    "mte=model.evaluate(X_test,y_test)\n",
    "print('Testing Score:',mte)"
   ]
  }
 ],
 "metadata": {
  "kernelspec": {
   "display_name": "Python 3 (ipykernel)",
   "language": "python",
   "name": "python3"
  },
  "language_info": {
   "codemirror_mode": {
    "name": "ipython",
    "version": 3
   },
   "file_extension": ".py",
   "mimetype": "text/x-python",
   "name": "python",
   "nbconvert_exporter": "python",
   "pygments_lexer": "ipython3",
   "version": "3.9.7"
  }
 },
 "nbformat": 4,
 "nbformat_minor": 5
}
